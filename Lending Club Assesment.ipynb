{
 "cells": [
  {
   "cell_type": "markdown",
   "metadata": {},
   "source": [
    "# Technical Assesment\n",
    "###### Britton Blaize Olle"
   ]
  },
  {
   "cell_type": "code",
   "execution_count": 1,
   "metadata": {},
   "outputs": [
    {
     "name": "stderr",
     "output_type": "stream",
     "text": [
      "C:\\Users\\blaiz\\Documents\\Python\\lib\\site-packages\\statsmodels\\compat\\pandas.py:56: FutureWarning: The pandas.core.datetools module is deprecated and will be removed in a future version. Please use the pandas.tseries module instead.\n",
      "  from pandas.core import datetools\n",
      "C:\\Users\\blaiz\\Documents\\Python\\lib\\site-packages\\sklearn\\cross_validation.py:41: DeprecationWarning: This module was deprecated in version 0.18 in favor of the model_selection module into which all the refactored classes and functions are moved. Also note that the interface of the new CV iterators are different from that of this module. This module will be removed in 0.20.\n",
      "  \"This module will be removed in 0.20.\", DeprecationWarning)\n"
     ]
    }
   ],
   "source": [
    "import pandas as pd\n",
    "import datetime as dt\n",
    "import numpy as np\n",
    "import scipy as sc\n",
    "import matplotlib.pyplot as plt\n",
    "import statsmodels.api as sm\n",
    "import csv\n",
    "import math\n",
    "import sklearn\n",
    "from scipy.optimize import minimize\n",
    "from sklearn import preprocessing\n",
    "from sklearn.linear_model import LogisticRegression\n",
    "from sklearn.cross_validation import train_test_split\n",
    "import json\n",
    "import seaborn as sns"
   ]
  },
  {
   "cell_type": "markdown",
   "metadata": {},
   "source": [
    "### Wrangle Data\n",
    "Pull the data with the appropriate columns.\n",
    "However, I do think there could have been some other columns that would have been useful for this analysis. Particularly the 'id', and 'home_owner' which I think would be an additional variable that could be fun to look at."
   ]
  },
  {
   "cell_type": "code",
   "execution_count": 2,
   "metadata": {
    "collapsed": true
   },
   "outputs": [],
   "source": [
    "loan_main = pd.read_csv(\"loan.csv\", usecols=['loan_amnt', 'funded_amnt', 'term', 'int_rate', 'grade', 'annual_inc', 'issue_d',\n",
    "                                             'dti', 'revol_bal', 'total_pymnt', 'loan_status'])"
   ]
  },
  {
   "cell_type": "code",
   "execution_count": 3,
   "metadata": {},
   "outputs": [
    {
     "data": {
      "text/html": [
       "<div>\n",
       "<style>\n",
       "    .dataframe thead tr:only-child th {\n",
       "        text-align: right;\n",
       "    }\n",
       "\n",
       "    .dataframe thead th {\n",
       "        text-align: left;\n",
       "    }\n",
       "\n",
       "    .dataframe tbody tr th {\n",
       "        vertical-align: top;\n",
       "    }\n",
       "</style>\n",
       "<table border=\"1\" class=\"dataframe\">\n",
       "  <thead>\n",
       "    <tr style=\"text-align: right;\">\n",
       "      <th></th>\n",
       "      <th>loan_amnt</th>\n",
       "      <th>funded_amnt</th>\n",
       "      <th>term</th>\n",
       "      <th>int_rate</th>\n",
       "      <th>grade</th>\n",
       "      <th>annual_inc</th>\n",
       "      <th>issue_d</th>\n",
       "      <th>loan_status</th>\n",
       "      <th>dti</th>\n",
       "      <th>revol_bal</th>\n",
       "      <th>total_pymnt</th>\n",
       "    </tr>\n",
       "  </thead>\n",
       "  <tbody>\n",
       "    <tr>\n",
       "      <th>0</th>\n",
       "      <td>5000.0</td>\n",
       "      <td>5000.0</td>\n",
       "      <td>36 months</td>\n",
       "      <td>10.65</td>\n",
       "      <td>B</td>\n",
       "      <td>24000.0</td>\n",
       "      <td>Dec-2011</td>\n",
       "      <td>Fully Paid</td>\n",
       "      <td>27.65</td>\n",
       "      <td>13648.0</td>\n",
       "      <td>5861.071414</td>\n",
       "    </tr>\n",
       "    <tr>\n",
       "      <th>1</th>\n",
       "      <td>2500.0</td>\n",
       "      <td>2500.0</td>\n",
       "      <td>60 months</td>\n",
       "      <td>15.27</td>\n",
       "      <td>C</td>\n",
       "      <td>30000.0</td>\n",
       "      <td>Dec-2011</td>\n",
       "      <td>Charged Off</td>\n",
       "      <td>1.00</td>\n",
       "      <td>1687.0</td>\n",
       "      <td>1008.710000</td>\n",
       "    </tr>\n",
       "    <tr>\n",
       "      <th>2</th>\n",
       "      <td>2400.0</td>\n",
       "      <td>2400.0</td>\n",
       "      <td>36 months</td>\n",
       "      <td>15.96</td>\n",
       "      <td>C</td>\n",
       "      <td>12252.0</td>\n",
       "      <td>Dec-2011</td>\n",
       "      <td>Fully Paid</td>\n",
       "      <td>8.72</td>\n",
       "      <td>2956.0</td>\n",
       "      <td>3003.653644</td>\n",
       "    </tr>\n",
       "    <tr>\n",
       "      <th>3</th>\n",
       "      <td>10000.0</td>\n",
       "      <td>10000.0</td>\n",
       "      <td>36 months</td>\n",
       "      <td>13.49</td>\n",
       "      <td>C</td>\n",
       "      <td>49200.0</td>\n",
       "      <td>Dec-2011</td>\n",
       "      <td>Fully Paid</td>\n",
       "      <td>20.00</td>\n",
       "      <td>5598.0</td>\n",
       "      <td>12226.302212</td>\n",
       "    </tr>\n",
       "    <tr>\n",
       "      <th>4</th>\n",
       "      <td>3000.0</td>\n",
       "      <td>3000.0</td>\n",
       "      <td>60 months</td>\n",
       "      <td>12.69</td>\n",
       "      <td>B</td>\n",
       "      <td>80000.0</td>\n",
       "      <td>Dec-2011</td>\n",
       "      <td>Current</td>\n",
       "      <td>17.94</td>\n",
       "      <td>27783.0</td>\n",
       "      <td>3242.170000</td>\n",
       "    </tr>\n",
       "  </tbody>\n",
       "</table>\n",
       "</div>"
      ],
      "text/plain": [
       "   loan_amnt  funded_amnt        term  int_rate grade  annual_inc   issue_d  \\\n",
       "0     5000.0       5000.0   36 months     10.65     B     24000.0  Dec-2011   \n",
       "1     2500.0       2500.0   60 months     15.27     C     30000.0  Dec-2011   \n",
       "2     2400.0       2400.0   36 months     15.96     C     12252.0  Dec-2011   \n",
       "3    10000.0      10000.0   36 months     13.49     C     49200.0  Dec-2011   \n",
       "4     3000.0       3000.0   60 months     12.69     B     80000.0  Dec-2011   \n",
       "\n",
       "   loan_status    dti  revol_bal   total_pymnt  \n",
       "0   Fully Paid  27.65    13648.0   5861.071414  \n",
       "1  Charged Off   1.00     1687.0   1008.710000  \n",
       "2   Fully Paid   8.72     2956.0   3003.653644  \n",
       "3   Fully Paid  20.00     5598.0  12226.302212  \n",
       "4      Current  17.94    27783.0   3242.170000  "
      ]
     },
     "execution_count": 3,
     "metadata": {},
     "output_type": "execute_result"
    }
   ],
   "source": [
    "loan_main.head()"
   ]
  },
  {
   "cell_type": "markdown",
   "metadata": {},
   "source": [
    "###### Initial lookup"
   ]
  },
  {
   "cell_type": "code",
   "execution_count": 4,
   "metadata": {},
   "outputs": [
    {
     "name": "stdout",
     "output_type": "stream",
     "text": [
      "(887379, 11)\n"
     ]
    }
   ],
   "source": [
    "print(loan_main.shape)"
   ]
  },
  {
   "cell_type": "code",
   "execution_count": 5,
   "metadata": {},
   "outputs": [
    {
     "data": {
      "text/plain": [
       "loan_amnt      0\n",
       "funded_amnt    0\n",
       "term           0\n",
       "int_rate       0\n",
       "grade          0\n",
       "annual_inc     4\n",
       "issue_d        0\n",
       "loan_status    0\n",
       "dti            0\n",
       "revol_bal      0\n",
       "total_pymnt    0\n",
       "dtype: int64"
      ]
     },
     "execution_count": 5,
     "metadata": {},
     "output_type": "execute_result"
    }
   ],
   "source": [
    "loan_main.isnull().sum()"
   ]
  },
  {
   "cell_type": "markdown",
   "metadata": {},
   "source": [
    "The data set we will be working with is limited to the 11 variables specified in the PDF with 887,379 observations with only 4 apparent null variables all within the annual_income category. For simplicity, to fix this issue for now I am going to fill the NA variables with the next available value. However, given more time I think a more appropriate solution would be to find the distribution of annual income for each grade of loan and randomly pick from the distribution to fill the missing values. But do to time constraints and the fact that only 4 values are missing, the median fill should be sufficient. Additionally, because of the small portion of Na values I also think it would be acceptable to drop the loans with NA values completely. Currently there is no index I will be grouping the data and changing the index throughout the analysis. To start I will use the issued date as index."
   ]
  },
  {
   "cell_type": "code",
   "execution_count": 6,
   "metadata": {},
   "outputs": [
    {
     "data": {
      "text/plain": [
       "loan_amnt      0\n",
       "funded_amnt    0\n",
       "term           0\n",
       "int_rate       0\n",
       "grade          0\n",
       "annual_inc     0\n",
       "issue_d        0\n",
       "loan_status    0\n",
       "dti            0\n",
       "revol_bal      0\n",
       "total_pymnt    0\n",
       "dtype: int64"
      ]
     },
     "execution_count": 6,
     "metadata": {},
     "output_type": "execute_result"
    }
   ],
   "source": [
    "loan_main=loan_main.fillna(method='ffill').fillna(method='bfill')\n",
    "loan_main.isnull().sum()"
   ]
  },
  {
   "cell_type": "code",
   "execution_count": 7,
   "metadata": {},
   "outputs": [
    {
     "name": "stdout",
     "output_type": "stream",
     "text": [
      "0\n"
     ]
    }
   ],
   "source": [
    "print(loan_main.duplicated().sum())\n",
    "#No duplicates"
   ]
  },
  {
   "cell_type": "code",
   "execution_count": 8,
   "metadata": {},
   "outputs": [
    {
     "data": {
      "text/html": [
       "<div>\n",
       "<style>\n",
       "    .dataframe thead tr:only-child th {\n",
       "        text-align: right;\n",
       "    }\n",
       "\n",
       "    .dataframe thead th {\n",
       "        text-align: left;\n",
       "    }\n",
       "\n",
       "    .dataframe tbody tr th {\n",
       "        vertical-align: top;\n",
       "    }\n",
       "</style>\n",
       "<table border=\"1\" class=\"dataframe\">\n",
       "  <thead>\n",
       "    <tr style=\"text-align: right;\">\n",
       "      <th></th>\n",
       "      <th>loan_amnt</th>\n",
       "      <th>funded_amnt</th>\n",
       "      <th>term</th>\n",
       "      <th>int_rate</th>\n",
       "      <th>grade</th>\n",
       "      <th>annual_inc</th>\n",
       "      <th>loan_status</th>\n",
       "      <th>dti</th>\n",
       "      <th>revol_bal</th>\n",
       "      <th>total_pymnt</th>\n",
       "    </tr>\n",
       "    <tr>\n",
       "      <th>issue_d</th>\n",
       "      <th></th>\n",
       "      <th></th>\n",
       "      <th></th>\n",
       "      <th></th>\n",
       "      <th></th>\n",
       "      <th></th>\n",
       "      <th></th>\n",
       "      <th></th>\n",
       "      <th></th>\n",
       "      <th></th>\n",
       "    </tr>\n",
       "  </thead>\n",
       "  <tbody>\n",
       "    <tr>\n",
       "      <th>Dec-2011</th>\n",
       "      <td>5000.0</td>\n",
       "      <td>5000.0</td>\n",
       "      <td>36 months</td>\n",
       "      <td>10.65</td>\n",
       "      <td>B</td>\n",
       "      <td>24000.0</td>\n",
       "      <td>Fully Paid</td>\n",
       "      <td>27.65</td>\n",
       "      <td>13648.0</td>\n",
       "      <td>5861.071414</td>\n",
       "    </tr>\n",
       "    <tr>\n",
       "      <th>Dec-2011</th>\n",
       "      <td>2500.0</td>\n",
       "      <td>2500.0</td>\n",
       "      <td>60 months</td>\n",
       "      <td>15.27</td>\n",
       "      <td>C</td>\n",
       "      <td>30000.0</td>\n",
       "      <td>Charged Off</td>\n",
       "      <td>1.00</td>\n",
       "      <td>1687.0</td>\n",
       "      <td>1008.710000</td>\n",
       "    </tr>\n",
       "    <tr>\n",
       "      <th>Dec-2011</th>\n",
       "      <td>2400.0</td>\n",
       "      <td>2400.0</td>\n",
       "      <td>36 months</td>\n",
       "      <td>15.96</td>\n",
       "      <td>C</td>\n",
       "      <td>12252.0</td>\n",
       "      <td>Fully Paid</td>\n",
       "      <td>8.72</td>\n",
       "      <td>2956.0</td>\n",
       "      <td>3003.653644</td>\n",
       "    </tr>\n",
       "    <tr>\n",
       "      <th>Dec-2011</th>\n",
       "      <td>10000.0</td>\n",
       "      <td>10000.0</td>\n",
       "      <td>36 months</td>\n",
       "      <td>13.49</td>\n",
       "      <td>C</td>\n",
       "      <td>49200.0</td>\n",
       "      <td>Fully Paid</td>\n",
       "      <td>20.00</td>\n",
       "      <td>5598.0</td>\n",
       "      <td>12226.302212</td>\n",
       "    </tr>\n",
       "    <tr>\n",
       "      <th>Dec-2011</th>\n",
       "      <td>3000.0</td>\n",
       "      <td>3000.0</td>\n",
       "      <td>60 months</td>\n",
       "      <td>12.69</td>\n",
       "      <td>B</td>\n",
       "      <td>80000.0</td>\n",
       "      <td>Current</td>\n",
       "      <td>17.94</td>\n",
       "      <td>27783.0</td>\n",
       "      <td>3242.170000</td>\n",
       "    </tr>\n",
       "  </tbody>\n",
       "</table>\n",
       "</div>"
      ],
      "text/plain": [
       "          loan_amnt  funded_amnt        term  int_rate grade  annual_inc  \\\n",
       "issue_d                                                                    \n",
       "Dec-2011     5000.0       5000.0   36 months     10.65     B     24000.0   \n",
       "Dec-2011     2500.0       2500.0   60 months     15.27     C     30000.0   \n",
       "Dec-2011     2400.0       2400.0   36 months     15.96     C     12252.0   \n",
       "Dec-2011    10000.0      10000.0   36 months     13.49     C     49200.0   \n",
       "Dec-2011     3000.0       3000.0   60 months     12.69     B     80000.0   \n",
       "\n",
       "          loan_status    dti  revol_bal   total_pymnt  \n",
       "issue_d                                                \n",
       "Dec-2011   Fully Paid  27.65    13648.0   5861.071414  \n",
       "Dec-2011  Charged Off   1.00     1687.0   1008.710000  \n",
       "Dec-2011   Fully Paid   8.72     2956.0   3003.653644  \n",
       "Dec-2011   Fully Paid  20.00     5598.0  12226.302212  \n",
       "Dec-2011      Current  17.94    27783.0   3242.170000  "
      ]
     },
     "execution_count": 8,
     "metadata": {},
     "output_type": "execute_result"
    }
   ],
   "source": [
    "pvt=loan_main.set_index(['issue_d'])\n",
    "pvt.head()"
   ]
  },
  {
   "cell_type": "markdown",
   "metadata": {},
   "source": [
    "Next, we will do exploration. First, I am interested to see uniquids for the variables 'term', 'loan_status'. Below you can see the variables."
   ]
  },
  {
   "cell_type": "code",
   "execution_count": 9,
   "metadata": {
    "scrolled": true
   },
   "outputs": [
    {
     "name": "stdout",
     "output_type": "stream",
     "text": [
      "[' 36 months' ' 60 months']\n",
      "['B' 'C' 'A' 'E' 'F' 'D' 'G']\n",
      "['Fully Paid' 'Charged Off' 'Current' 'Default' 'Late (31-120 days)'\n",
      " 'In Grace Period' 'Late (16-30 days)'\n",
      " 'Does not meet the credit policy. Status:Fully Paid'\n",
      " 'Does not meet the credit policy. Status:Charged Off' 'Issued']\n"
     ]
    }
   ],
   "source": [
    "print(pvt['term'].unique())\n",
    "print(pvt['grade'].unique())\n",
    "print(pvt['loan_status'].unique())"
   ]
  },
  {
   "cell_type": "markdown",
   "metadata": {},
   "source": [
    "I think, especially for the grades it could be useful to create some dummy variables which I will do later.\n",
    "Additionally, I am switching back to having no index.\n",
    "###### Summary statistics and Distribution of Graphs.\n",
    "To avoid biases created by outliers I think it is important to use the median instead of the mean for the general statistics. While I do analyze the mean, for distributions and analysis I will use the median statistics."
   ]
  },
  {
   "cell_type": "code",
   "execution_count": 10,
   "metadata": {},
   "outputs": [
    {
     "data": {
      "text/html": [
       "<div>\n",
       "<style>\n",
       "    .dataframe thead tr:only-child th {\n",
       "        text-align: right;\n",
       "    }\n",
       "\n",
       "    .dataframe thead th {\n",
       "        text-align: left;\n",
       "    }\n",
       "\n",
       "    .dataframe tbody tr th {\n",
       "        vertical-align: top;\n",
       "    }\n",
       "</style>\n",
       "<table border=\"1\" class=\"dataframe\">\n",
       "  <thead>\n",
       "    <tr style=\"text-align: right;\">\n",
       "      <th></th>\n",
       "      <th>loan_amnt</th>\n",
       "      <th>funded_amnt</th>\n",
       "      <th>int_rate</th>\n",
       "      <th>annual_inc</th>\n",
       "      <th>dti</th>\n",
       "      <th>revol_bal</th>\n",
       "      <th>total_pymnt</th>\n",
       "    </tr>\n",
       "    <tr>\n",
       "      <th>grade</th>\n",
       "      <th></th>\n",
       "      <th></th>\n",
       "      <th></th>\n",
       "      <th></th>\n",
       "      <th></th>\n",
       "      <th></th>\n",
       "      <th></th>\n",
       "    </tr>\n",
       "  </thead>\n",
       "  <tbody>\n",
       "    <tr>\n",
       "      <th>A</th>\n",
       "      <td>12000.0</td>\n",
       "      <td>12000.0</td>\n",
       "      <td>7.26</td>\n",
       "      <td>75000.0</td>\n",
       "      <td>15.080</td>\n",
       "      <td>12866.0</td>\n",
       "      <td>4808.390</td>\n",
       "    </tr>\n",
       "    <tr>\n",
       "      <th>B</th>\n",
       "      <td>12000.0</td>\n",
       "      <td>12000.0</td>\n",
       "      <td>10.99</td>\n",
       "      <td>65000.0</td>\n",
       "      <td>16.860</td>\n",
       "      <td>11879.0</td>\n",
       "      <td>4915.490</td>\n",
       "    </tr>\n",
       "    <tr>\n",
       "      <th>C</th>\n",
       "      <td>12000.0</td>\n",
       "      <td>12000.0</td>\n",
       "      <td>13.99</td>\n",
       "      <td>60000.0</td>\n",
       "      <td>18.350</td>\n",
       "      <td>11563.0</td>\n",
       "      <td>4521.880</td>\n",
       "    </tr>\n",
       "    <tr>\n",
       "      <th>D</th>\n",
       "      <td>14000.0</td>\n",
       "      <td>14000.0</td>\n",
       "      <td>16.99</td>\n",
       "      <td>60000.0</td>\n",
       "      <td>19.450</td>\n",
       "      <td>11304.0</td>\n",
       "      <td>5114.575</td>\n",
       "    </tr>\n",
       "    <tr>\n",
       "      <th>E</th>\n",
       "      <td>16850.0</td>\n",
       "      <td>16800.0</td>\n",
       "      <td>19.99</td>\n",
       "      <td>61000.0</td>\n",
       "      <td>20.050</td>\n",
       "      <td>12155.0</td>\n",
       "      <td>5169.230</td>\n",
       "    </tr>\n",
       "    <tr>\n",
       "      <th>F</th>\n",
       "      <td>18625.0</td>\n",
       "      <td>18550.0</td>\n",
       "      <td>23.76</td>\n",
       "      <td>65000.0</td>\n",
       "      <td>19.695</td>\n",
       "      <td>12022.5</td>\n",
       "      <td>6491.285</td>\n",
       "    </tr>\n",
       "    <tr>\n",
       "      <th>G</th>\n",
       "      <td>20000.0</td>\n",
       "      <td>20000.0</td>\n",
       "      <td>25.83</td>\n",
       "      <td>68000.0</td>\n",
       "      <td>19.280</td>\n",
       "      <td>11553.0</td>\n",
       "      <td>8186.450</td>\n",
       "    </tr>\n",
       "  </tbody>\n",
       "</table>\n",
       "</div>"
      ],
      "text/plain": [
       "       loan_amnt  funded_amnt  int_rate  annual_inc     dti  revol_bal  \\\n",
       "grade                                                                    \n",
       "A        12000.0      12000.0      7.26     75000.0  15.080    12866.0   \n",
       "B        12000.0      12000.0     10.99     65000.0  16.860    11879.0   \n",
       "C        12000.0      12000.0     13.99     60000.0  18.350    11563.0   \n",
       "D        14000.0      14000.0     16.99     60000.0  19.450    11304.0   \n",
       "E        16850.0      16800.0     19.99     61000.0  20.050    12155.0   \n",
       "F        18625.0      18550.0     23.76     65000.0  19.695    12022.5   \n",
       "G        20000.0      20000.0     25.83     68000.0  19.280    11553.0   \n",
       "\n",
       "       total_pymnt  \n",
       "grade               \n",
       "A         4808.390  \n",
       "B         4915.490  \n",
       "C         4521.880  \n",
       "D         5114.575  \n",
       "E         5169.230  \n",
       "F         6491.285  \n",
       "G         8186.450  "
      ]
     },
     "execution_count": 10,
     "metadata": {},
     "output_type": "execute_result"
    }
   ],
   "source": [
    "loan_main.groupby('grade').median()"
   ]
  },
  {
   "cell_type": "code",
   "execution_count": 11,
   "metadata": {},
   "outputs": [
    {
     "data": {
      "text/html": [
       "<div>\n",
       "<style>\n",
       "    .dataframe thead tr:only-child th {\n",
       "        text-align: right;\n",
       "    }\n",
       "\n",
       "    .dataframe thead th {\n",
       "        text-align: left;\n",
       "    }\n",
       "\n",
       "    .dataframe tbody tr th {\n",
       "        vertical-align: top;\n",
       "    }\n",
       "</style>\n",
       "<table border=\"1\" class=\"dataframe\">\n",
       "  <thead>\n",
       "    <tr style=\"text-align: right;\">\n",
       "      <th></th>\n",
       "      <th>loan_amnt</th>\n",
       "      <th>funded_amnt</th>\n",
       "      <th>int_rate</th>\n",
       "      <th>annual_inc</th>\n",
       "      <th>dti</th>\n",
       "      <th>revol_bal</th>\n",
       "      <th>total_pymnt</th>\n",
       "    </tr>\n",
       "    <tr>\n",
       "      <th>grade</th>\n",
       "      <th></th>\n",
       "      <th></th>\n",
       "      <th></th>\n",
       "      <th></th>\n",
       "      <th></th>\n",
       "      <th></th>\n",
       "      <th></th>\n",
       "    </tr>\n",
       "  </thead>\n",
       "  <tbody>\n",
       "    <tr>\n",
       "      <th>A</th>\n",
       "      <td>14038.860306</td>\n",
       "      <td>14023.323572</td>\n",
       "      <td>7.243312</td>\n",
       "      <td>86941.890728</td>\n",
       "      <td>15.577401</td>\n",
       "      <td>18953.963199</td>\n",
       "      <td>7068.284092</td>\n",
       "    </tr>\n",
       "    <tr>\n",
       "      <th>B</th>\n",
       "      <td>13642.965211</td>\n",
       "      <td>13630.195062</td>\n",
       "      <td>10.829618</td>\n",
       "      <td>75487.389207</td>\n",
       "      <td>17.305115</td>\n",
       "      <td>16911.403017</td>\n",
       "      <td>7266.042944</td>\n",
       "    </tr>\n",
       "    <tr>\n",
       "      <th>C</th>\n",
       "      <td>14466.306028</td>\n",
       "      <td>14458.230599</td>\n",
       "      <td>13.980098</td>\n",
       "      <td>71536.950300</td>\n",
       "      <td>18.792559</td>\n",
       "      <td>16355.232405</td>\n",
       "      <td>7175.405419</td>\n",
       "    </tr>\n",
       "    <tr>\n",
       "      <th>D</th>\n",
       "      <td>15459.506278</td>\n",
       "      <td>15450.499670</td>\n",
       "      <td>17.175814</td>\n",
       "      <td>69169.272616</td>\n",
       "      <td>19.908175</td>\n",
       "      <td>15880.873551</td>\n",
       "      <td>7922.393262</td>\n",
       "    </tr>\n",
       "    <tr>\n",
       "      <th>E</th>\n",
       "      <td>17998.146171</td>\n",
       "      <td>17970.831978</td>\n",
       "      <td>19.897322</td>\n",
       "      <td>72119.152229</td>\n",
       "      <td>20.338847</td>\n",
       "      <td>16847.066077</td>\n",
       "      <td>8862.453019</td>\n",
       "    </tr>\n",
       "    <tr>\n",
       "      <th>F</th>\n",
       "      <td>19139.160809</td>\n",
       "      <td>19098.808904</td>\n",
       "      <td>23.582787</td>\n",
       "      <td>73801.170917</td>\n",
       "      <td>19.834316</td>\n",
       "      <td>16410.247158</td>\n",
       "      <td>10718.213782</td>\n",
       "    </tr>\n",
       "    <tr>\n",
       "      <th>G</th>\n",
       "      <td>20538.563491</td>\n",
       "      <td>20497.959555</td>\n",
       "      <td>25.626706</td>\n",
       "      <td>79904.591762</td>\n",
       "      <td>19.182093</td>\n",
       "      <td>17322.579705</td>\n",
       "      <td>12254.420001</td>\n",
       "    </tr>\n",
       "  </tbody>\n",
       "</table>\n",
       "</div>"
      ],
      "text/plain": [
       "          loan_amnt   funded_amnt   int_rate    annual_inc        dti  \\\n",
       "grade                                                                   \n",
       "A      14038.860306  14023.323572   7.243312  86941.890728  15.577401   \n",
       "B      13642.965211  13630.195062  10.829618  75487.389207  17.305115   \n",
       "C      14466.306028  14458.230599  13.980098  71536.950300  18.792559   \n",
       "D      15459.506278  15450.499670  17.175814  69169.272616  19.908175   \n",
       "E      17998.146171  17970.831978  19.897322  72119.152229  20.338847   \n",
       "F      19139.160809  19098.808904  23.582787  73801.170917  19.834316   \n",
       "G      20538.563491  20497.959555  25.626706  79904.591762  19.182093   \n",
       "\n",
       "          revol_bal   total_pymnt  \n",
       "grade                              \n",
       "A      18953.963199   7068.284092  \n",
       "B      16911.403017   7266.042944  \n",
       "C      16355.232405   7175.405419  \n",
       "D      15880.873551   7922.393262  \n",
       "E      16847.066077   8862.453019  \n",
       "F      16410.247158  10718.213782  \n",
       "G      17322.579705  12254.420001  "
      ]
     },
     "execution_count": 11,
     "metadata": {},
     "output_type": "execute_result"
    }
   ],
   "source": [
    "loan_main.groupby('grade').mean()"
   ]
  },
  {
   "cell_type": "code",
   "execution_count": 12,
   "metadata": {},
   "outputs": [
    {
     "data": {
      "text/html": [
       "<div>\n",
       "<style>\n",
       "    .dataframe thead tr:only-child th {\n",
       "        text-align: right;\n",
       "    }\n",
       "\n",
       "    .dataframe thead th {\n",
       "        text-align: left;\n",
       "    }\n",
       "\n",
       "    .dataframe tbody tr th {\n",
       "        vertical-align: top;\n",
       "    }\n",
       "</style>\n",
       "<table border=\"1\" class=\"dataframe\">\n",
       "  <thead>\n",
       "    <tr style=\"text-align: right;\">\n",
       "      <th></th>\n",
       "      <th>loan_amnt</th>\n",
       "      <th>funded_amnt</th>\n",
       "      <th>term</th>\n",
       "      <th>int_rate</th>\n",
       "      <th>annual_inc</th>\n",
       "      <th>issue_d</th>\n",
       "      <th>loan_status</th>\n",
       "      <th>dti</th>\n",
       "      <th>revol_bal</th>\n",
       "      <th>total_pymnt</th>\n",
       "    </tr>\n",
       "    <tr>\n",
       "      <th>grade</th>\n",
       "      <th></th>\n",
       "      <th></th>\n",
       "      <th></th>\n",
       "      <th></th>\n",
       "      <th></th>\n",
       "      <th></th>\n",
       "      <th></th>\n",
       "      <th></th>\n",
       "      <th></th>\n",
       "      <th></th>\n",
       "    </tr>\n",
       "  </thead>\n",
       "  <tbody>\n",
       "    <tr>\n",
       "      <th>A</th>\n",
       "      <td>500.0</td>\n",
       "      <td>500.0</td>\n",
       "      <td>36 months</td>\n",
       "      <td>5.32</td>\n",
       "      <td>3300.0</td>\n",
       "      <td>Apr-2008</td>\n",
       "      <td>Charged Off</td>\n",
       "      <td>0.0</td>\n",
       "      <td>0.0</td>\n",
       "      <td>0.0</td>\n",
       "    </tr>\n",
       "    <tr>\n",
       "      <th>B</th>\n",
       "      <td>500.0</td>\n",
       "      <td>500.0</td>\n",
       "      <td>36 months</td>\n",
       "      <td>6.00</td>\n",
       "      <td>2000.0</td>\n",
       "      <td>Apr-2008</td>\n",
       "      <td>Charged Off</td>\n",
       "      <td>0.0</td>\n",
       "      <td>0.0</td>\n",
       "      <td>0.0</td>\n",
       "    </tr>\n",
       "    <tr>\n",
       "      <th>C</th>\n",
       "      <td>500.0</td>\n",
       "      <td>500.0</td>\n",
       "      <td>36 months</td>\n",
       "      <td>6.00</td>\n",
       "      <td>0.0</td>\n",
       "      <td>Apr-2008</td>\n",
       "      <td>Charged Off</td>\n",
       "      <td>0.0</td>\n",
       "      <td>0.0</td>\n",
       "      <td>0.0</td>\n",
       "    </tr>\n",
       "    <tr>\n",
       "      <th>D</th>\n",
       "      <td>500.0</td>\n",
       "      <td>500.0</td>\n",
       "      <td>36 months</td>\n",
       "      <td>6.00</td>\n",
       "      <td>0.0</td>\n",
       "      <td>Apr-2008</td>\n",
       "      <td>Charged Off</td>\n",
       "      <td>0.0</td>\n",
       "      <td>0.0</td>\n",
       "      <td>0.0</td>\n",
       "    </tr>\n",
       "    <tr>\n",
       "      <th>E</th>\n",
       "      <td>600.0</td>\n",
       "      <td>600.0</td>\n",
       "      <td>36 months</td>\n",
       "      <td>6.00</td>\n",
       "      <td>1200.0</td>\n",
       "      <td>Apr-2008</td>\n",
       "      <td>Charged Off</td>\n",
       "      <td>0.0</td>\n",
       "      <td>0.0</td>\n",
       "      <td>0.0</td>\n",
       "    </tr>\n",
       "  </tbody>\n",
       "</table>\n",
       "</div>"
      ],
      "text/plain": [
       "       loan_amnt  funded_amnt        term  int_rate  annual_inc   issue_d  \\\n",
       "grade                                                                       \n",
       "A          500.0        500.0   36 months      5.32      3300.0  Apr-2008   \n",
       "B          500.0        500.0   36 months      6.00      2000.0  Apr-2008   \n",
       "C          500.0        500.0   36 months      6.00         0.0  Apr-2008   \n",
       "D          500.0        500.0   36 months      6.00         0.0  Apr-2008   \n",
       "E          600.0        600.0   36 months      6.00      1200.0  Apr-2008   \n",
       "\n",
       "       loan_status  dti  revol_bal  total_pymnt  \n",
       "grade                                            \n",
       "A      Charged Off  0.0        0.0          0.0  \n",
       "B      Charged Off  0.0        0.0          0.0  \n",
       "C      Charged Off  0.0        0.0          0.0  \n",
       "D      Charged Off  0.0        0.0          0.0  \n",
       "E      Charged Off  0.0        0.0          0.0  "
      ]
     },
     "execution_count": 12,
     "metadata": {},
     "output_type": "execute_result"
    }
   ],
   "source": [
    "loan_main.groupby('grade').min().head()"
   ]
  },
  {
   "cell_type": "code",
   "execution_count": 13,
   "metadata": {},
   "outputs": [
    {
     "data": {
      "text/html": [
       "<div>\n",
       "<style>\n",
       "    .dataframe thead tr:only-child th {\n",
       "        text-align: right;\n",
       "    }\n",
       "\n",
       "    .dataframe thead th {\n",
       "        text-align: left;\n",
       "    }\n",
       "\n",
       "    .dataframe tbody tr th {\n",
       "        vertical-align: top;\n",
       "    }\n",
       "</style>\n",
       "<table border=\"1\" class=\"dataframe\">\n",
       "  <thead>\n",
       "    <tr style=\"text-align: right;\">\n",
       "      <th></th>\n",
       "      <th>loan_amnt</th>\n",
       "      <th>funded_amnt</th>\n",
       "      <th>term</th>\n",
       "      <th>int_rate</th>\n",
       "      <th>annual_inc</th>\n",
       "      <th>issue_d</th>\n",
       "      <th>loan_status</th>\n",
       "      <th>dti</th>\n",
       "      <th>revol_bal</th>\n",
       "      <th>total_pymnt</th>\n",
       "    </tr>\n",
       "    <tr>\n",
       "      <th>grade</th>\n",
       "      <th></th>\n",
       "      <th></th>\n",
       "      <th></th>\n",
       "      <th></th>\n",
       "      <th></th>\n",
       "      <th></th>\n",
       "      <th></th>\n",
       "      <th></th>\n",
       "      <th></th>\n",
       "      <th></th>\n",
       "    </tr>\n",
       "  </thead>\n",
       "  <tbody>\n",
       "    <tr>\n",
       "      <th>A</th>\n",
       "      <td>35000.0</td>\n",
       "      <td>35000.0</td>\n",
       "      <td>60 months</td>\n",
       "      <td>9.63</td>\n",
       "      <td>9500000.0</td>\n",
       "      <td>Sep-2015</td>\n",
       "      <td>Late (31-120 days)</td>\n",
       "      <td>39.99</td>\n",
       "      <td>2568995.0</td>\n",
       "      <td>40126.176367</td>\n",
       "    </tr>\n",
       "    <tr>\n",
       "      <th>B</th>\n",
       "      <td>35000.0</td>\n",
       "      <td>35000.0</td>\n",
       "      <td>60 months</td>\n",
       "      <td>14.09</td>\n",
       "      <td>8700000.0</td>\n",
       "      <td>Sep-2015</td>\n",
       "      <td>Late (31-120 days)</td>\n",
       "      <td>41.69</td>\n",
       "      <td>1743266.0</td>\n",
       "      <td>46763.187147</td>\n",
       "    </tr>\n",
       "    <tr>\n",
       "      <th>C</th>\n",
       "      <td>35000.0</td>\n",
       "      <td>35000.0</td>\n",
       "      <td>60 months</td>\n",
       "      <td>17.27</td>\n",
       "      <td>8706582.0</td>\n",
       "      <td>Sep-2015</td>\n",
       "      <td>Late (31-120 days)</td>\n",
       "      <td>9999.00</td>\n",
       "      <td>1746716.0</td>\n",
       "      <td>49015.689950</td>\n",
       "    </tr>\n",
       "    <tr>\n",
       "      <th>D</th>\n",
       "      <td>35000.0</td>\n",
       "      <td>35000.0</td>\n",
       "      <td>60 months</td>\n",
       "      <td>20.31</td>\n",
       "      <td>8900060.0</td>\n",
       "      <td>Sep-2015</td>\n",
       "      <td>Late (31-120 days)</td>\n",
       "      <td>9999.00</td>\n",
       "      <td>2904836.0</td>\n",
       "      <td>51921.657702</td>\n",
       "    </tr>\n",
       "    <tr>\n",
       "      <th>E</th>\n",
       "      <td>35000.0</td>\n",
       "      <td>35000.0</td>\n",
       "      <td>60 months</td>\n",
       "      <td>23.40</td>\n",
       "      <td>7500000.0</td>\n",
       "      <td>Sep-2015</td>\n",
       "      <td>Late (31-120 days)</td>\n",
       "      <td>672.52</td>\n",
       "      <td>1030826.0</td>\n",
       "      <td>54329.489934</td>\n",
       "    </tr>\n",
       "  </tbody>\n",
       "</table>\n",
       "</div>"
      ],
      "text/plain": [
       "       loan_amnt  funded_amnt        term  int_rate  annual_inc   issue_d  \\\n",
       "grade                                                                       \n",
       "A        35000.0      35000.0   60 months      9.63   9500000.0  Sep-2015   \n",
       "B        35000.0      35000.0   60 months     14.09   8700000.0  Sep-2015   \n",
       "C        35000.0      35000.0   60 months     17.27   8706582.0  Sep-2015   \n",
       "D        35000.0      35000.0   60 months     20.31   8900060.0  Sep-2015   \n",
       "E        35000.0      35000.0   60 months     23.40   7500000.0  Sep-2015   \n",
       "\n",
       "              loan_status      dti  revol_bal   total_pymnt  \n",
       "grade                                                        \n",
       "A      Late (31-120 days)    39.99  2568995.0  40126.176367  \n",
       "B      Late (31-120 days)    41.69  1743266.0  46763.187147  \n",
       "C      Late (31-120 days)  9999.00  1746716.0  49015.689950  \n",
       "D      Late (31-120 days)  9999.00  2904836.0  51921.657702  \n",
       "E      Late (31-120 days)   672.52  1030826.0  54329.489934  "
      ]
     },
     "execution_count": 13,
     "metadata": {},
     "output_type": "execute_result"
    }
   ],
   "source": [
    "loan_main.groupby('grade').max().head()"
   ]
  },
  {
   "cell_type": "code",
   "execution_count": 14,
   "metadata": {},
   "outputs": [
    {
     "data": {
      "text/html": [
       "<div>\n",
       "<style>\n",
       "    .dataframe thead tr:only-child th {\n",
       "        text-align: right;\n",
       "    }\n",
       "\n",
       "    .dataframe thead th {\n",
       "        text-align: left;\n",
       "    }\n",
       "\n",
       "    .dataframe tbody tr th {\n",
       "        vertical-align: top;\n",
       "    }\n",
       "</style>\n",
       "<table border=\"1\" class=\"dataframe\">\n",
       "  <thead>\n",
       "    <tr style=\"text-align: right;\">\n",
       "      <th></th>\n",
       "      <th>loan_amnt</th>\n",
       "      <th>funded_amnt</th>\n",
       "      <th>int_rate</th>\n",
       "      <th>annual_inc</th>\n",
       "      <th>dti</th>\n",
       "      <th>revol_bal</th>\n",
       "      <th>total_pymnt</th>\n",
       "    </tr>\n",
       "  </thead>\n",
       "  <tbody>\n",
       "    <tr>\n",
       "      <th>count</th>\n",
       "      <td>887379.000000</td>\n",
       "      <td>887379.000000</td>\n",
       "      <td>887379.000000</td>\n",
       "      <td>8.873790e+05</td>\n",
       "      <td>887379.000000</td>\n",
       "      <td>8.873790e+05</td>\n",
       "      <td>887379.000000</td>\n",
       "    </tr>\n",
       "    <tr>\n",
       "      <th>mean</th>\n",
       "      <td>14755.264605</td>\n",
       "      <td>14741.877625</td>\n",
       "      <td>13.246740</td>\n",
       "      <td>7.502751e+04</td>\n",
       "      <td>18.157039</td>\n",
       "      <td>1.692079e+04</td>\n",
       "      <td>7558.826684</td>\n",
       "    </tr>\n",
       "    <tr>\n",
       "      <th>std</th>\n",
       "      <td>8435.455601</td>\n",
       "      <td>8429.897657</td>\n",
       "      <td>4.381867</td>\n",
       "      <td>6.469819e+04</td>\n",
       "      <td>17.190626</td>\n",
       "      <td>2.242679e+04</td>\n",
       "      <td>7871.243336</td>\n",
       "    </tr>\n",
       "    <tr>\n",
       "      <th>min</th>\n",
       "      <td>500.000000</td>\n",
       "      <td>500.000000</td>\n",
       "      <td>5.320000</td>\n",
       "      <td>0.000000e+00</td>\n",
       "      <td>0.000000</td>\n",
       "      <td>0.000000e+00</td>\n",
       "      <td>0.000000</td>\n",
       "    </tr>\n",
       "    <tr>\n",
       "      <th>25%</th>\n",
       "      <td>8000.000000</td>\n",
       "      <td>8000.000000</td>\n",
       "      <td>9.990000</td>\n",
       "      <td>4.500000e+04</td>\n",
       "      <td>11.910000</td>\n",
       "      <td>6.443000e+03</td>\n",
       "      <td>1914.590000</td>\n",
       "    </tr>\n",
       "    <tr>\n",
       "      <th>50%</th>\n",
       "      <td>13000.000000</td>\n",
       "      <td>13000.000000</td>\n",
       "      <td>12.990000</td>\n",
       "      <td>6.500000e+04</td>\n",
       "      <td>17.650000</td>\n",
       "      <td>1.187500e+04</td>\n",
       "      <td>4894.999117</td>\n",
       "    </tr>\n",
       "    <tr>\n",
       "      <th>75%</th>\n",
       "      <td>20000.000000</td>\n",
       "      <td>20000.000000</td>\n",
       "      <td>16.200000</td>\n",
       "      <td>9.000000e+04</td>\n",
       "      <td>23.950000</td>\n",
       "      <td>2.082900e+04</td>\n",
       "      <td>10616.814231</td>\n",
       "    </tr>\n",
       "    <tr>\n",
       "      <th>max</th>\n",
       "      <td>35000.000000</td>\n",
       "      <td>35000.000000</td>\n",
       "      <td>28.990000</td>\n",
       "      <td>9.500000e+06</td>\n",
       "      <td>9999.000000</td>\n",
       "      <td>2.904836e+06</td>\n",
       "      <td>57777.579870</td>\n",
       "    </tr>\n",
       "  </tbody>\n",
       "</table>\n",
       "</div>"
      ],
      "text/plain": [
       "           loan_amnt    funded_amnt       int_rate    annual_inc  \\\n",
       "count  887379.000000  887379.000000  887379.000000  8.873790e+05   \n",
       "mean    14755.264605   14741.877625      13.246740  7.502751e+04   \n",
       "std      8435.455601    8429.897657       4.381867  6.469819e+04   \n",
       "min       500.000000     500.000000       5.320000  0.000000e+00   \n",
       "25%      8000.000000    8000.000000       9.990000  4.500000e+04   \n",
       "50%     13000.000000   13000.000000      12.990000  6.500000e+04   \n",
       "75%     20000.000000   20000.000000      16.200000  9.000000e+04   \n",
       "max     35000.000000   35000.000000      28.990000  9.500000e+06   \n",
       "\n",
       "                 dti     revol_bal    total_pymnt  \n",
       "count  887379.000000  8.873790e+05  887379.000000  \n",
       "mean       18.157039  1.692079e+04    7558.826684  \n",
       "std        17.190626  2.242679e+04    7871.243336  \n",
       "min         0.000000  0.000000e+00       0.000000  \n",
       "25%        11.910000  6.443000e+03    1914.590000  \n",
       "50%        17.650000  1.187500e+04    4894.999117  \n",
       "75%        23.950000  2.082900e+04   10616.814231  \n",
       "max      9999.000000  2.904836e+06   57777.579870  "
      ]
     },
     "execution_count": 14,
     "metadata": {},
     "output_type": "execute_result"
    }
   ],
   "source": [
    "Table_summary=loan_main.describe()\n",
    "Table_summary"
   ]
  },
  {
   "cell_type": "markdown",
   "metadata": {},
   "source": [
    "###### Distributions\n",
    "Next let’s look at some important distributions. Starting first with interest rates. To avoid biases created by outliers I think it is important to use the median instead of the mean for the general statistics. While I do analyze the mean, for distributions and analysis I will use the median statistics.\n"
   ]
  },
  {
   "cell_type": "code",
   "execution_count": 15,
   "metadata": {},
   "outputs": [
    {
     "data": {
      "image/png": "[encoded data removed]",
      "text/plain": [
       "<matplotlib.figure.Figure at 0x1dac70462b0>"
      ]
     },
     "metadata": {},
     "output_type": "display_data"
    }
   ],
   "source": [
    "zzz=pd.cut(loan_main['int_rate'].values,bins=20).value_counts().plot(kind='barh')\n",
    "plt.title('Distribution of Interest Rates')\n",
    "plt.xlabel('Count')\n",
    "plt.ylabel('Interest Rates Bins')\n",
    "plt.show()"
   ]
  },
  {
   "cell_type": "code",
   "execution_count": 16,
   "metadata": {},
   "outputs": [
    {
     "data": {
      "image/png": "[encoded data removed]",
      "text/plain": [
       "<matplotlib.figure.Figure at 0x1dac7c85898>"
      ]
     },
     "metadata": {},
     "output_type": "display_data"
    }
   ],
   "source": [
    "# seaborn histogram\n",
    "sns.distplot(loan_main['loan_amnt'], hist=True, kde=True, color = 'blue', hist_kws={'edgecolor':'black'})\n",
    "# Add labels\n",
    "\n",
    "plt.title('Density of Loan Amounts')\n",
    "plt.xlabel('Loan Amount in $')\n",
    "plt.ylabel('Density')\n",
    "plt.show()"
   ]
  },
  {
   "cell_type": "markdown",
   "metadata": {},
   "source": [
    "In the plot above we see a variable distribution. It illustrates an almost lognormal type distribution with massive spikes at specific points. We can see these spikes tend to happen in intervals of 5,000."
   ]
  },
  {
   "cell_type": "code",
   "execution_count": 17,
   "metadata": {},
   "outputs": [
    {
     "data": {
      "image/png": "[encoded data removed]",
      "text/plain": [
       "<matplotlib.figure.Figure at 0x1dad11cdda0>"
      ]
     },
     "metadata": {},
     "output_type": "display_data"
    }
   ],
   "source": [
    "import matplotlib.pyplot as plt\n",
    "import scipy.stats as sp\n",
    "\n",
    "def qq_plot(series, figsize=(11, 8)):\n",
    "    \"\"\"compare given series to Normal distirbution\n",
    "    with matching location & scale\"\"\"\n",
    "    fig = plt.figure(figsize=figsize)\n",
    "    ax = fig.add_subplot(111)\n",
    "    arrs, res = sp.probplot(series, \n",
    "                            dist=sp.norm, \n",
    "                            sparams=(series.mean(), series.std()), \n",
    "                            plot=ax)\n",
    "    bbox = {'fc': '1', 'pad': 3}\n",
    "    xy = (ax.get_xticks()[-2], ax.get_yticks()[2])\n",
    "    text = ax.annotate(r'$R^2$: {}'.format(round(res[2], 3)),\n",
    "                     xy=xy,\n",
    "                     bbox=bbox)\n",
    "    title = ax.set_title('Q-Q plot')\n",
    "qq_plot(np.log(pvt['loan_amnt']), figsize=(11,8))\n",
    "plt.show()"
   ]
  },
  {
   "cell_type": "markdown",
   "metadata": {},
   "source": [
    "# Part 2\n",
    "The goal is to see if we can accurately predict default rates of 36 term month loans.\n",
    "So first I will remove all 60 month term loans and take out all loans with less than 36 months to maturity.\n",
    "###### Adjust data set"
   ]
  },
  {
   "cell_type": "code",
   "execution_count": 18,
   "metadata": {},
   "outputs": [
    {
     "name": "stdout",
     "output_type": "stream",
     "text": [
      "[' 36 months' ' 60 months']\n"
     ]
    }
   ],
   "source": [
    "print(pvt['term'].unique())"
   ]
  },
  {
   "cell_type": "code",
   "execution_count": 19,
   "metadata": {},
   "outputs": [
    {
     "data": {
      "text/plain": [
       "array([' 36 months'], dtype=object)"
      ]
     },
     "execution_count": 19,
     "metadata": {},
     "output_type": "execute_result"
    }
   ],
   "source": [
    "loan_main=loan_main[loan_main.term != ' 60 months']\n",
    "loan_main['term'].unique()"
   ]
  },
  {
   "cell_type": "markdown",
   "metadata": {},
   "source": [
    "The data is from 2007-2015 are months that will not be included are loans that were issued less than 36 months prior to Dec-2015"
   ]
  },
  {
   "cell_type": "code",
   "execution_count": 20,
   "metadata": {
    "collapsed": true
   },
   "outputs": [],
   "source": [
    "loan_main.issue_d=pd.to_datetime(loan_main['issue_d'])"
   ]
  },
  {
   "cell_type": "code",
   "execution_count": 21,
   "metadata": {},
   "outputs": [
    {
     "data": {
      "text/plain": [
       "array(['2011-12-01T00:00:00.000000000', '2011-11-01T00:00:00.000000000',\n",
       "       '2011-10-01T00:00:00.000000000', '2011-09-01T00:00:00.000000000',\n",
       "       '2011-08-01T00:00:00.000000000', '2011-07-01T00:00:00.000000000',\n",
       "       '2011-06-01T00:00:00.000000000', '2011-05-01T00:00:00.000000000',\n",
       "       '2011-04-01T00:00:00.000000000', '2011-03-01T00:00:00.000000000',\n",
       "       '2011-02-01T00:00:00.000000000', '2011-01-01T00:00:00.000000000',\n",
       "       '2010-12-01T00:00:00.000000000', '2010-11-01T00:00:00.000000000',\n",
       "       '2010-10-01T00:00:00.000000000', '2010-09-01T00:00:00.000000000',\n",
       "       '2010-08-01T00:00:00.000000000', '2010-07-01T00:00:00.000000000',\n",
       "       '2010-06-01T00:00:00.000000000', '2010-05-01T00:00:00.000000000',\n",
       "       '2010-04-01T00:00:00.000000000', '2010-03-01T00:00:00.000000000',\n",
       "       '2010-02-01T00:00:00.000000000', '2010-01-01T00:00:00.000000000',\n",
       "       '2009-12-01T00:00:00.000000000', '2009-11-01T00:00:00.000000000',\n",
       "       '2009-10-01T00:00:00.000000000', '2009-09-01T00:00:00.000000000',\n",
       "       '2009-08-01T00:00:00.000000000', '2009-07-01T00:00:00.000000000',\n",
       "       '2009-06-01T00:00:00.000000000', '2009-05-01T00:00:00.000000000',\n",
       "       '2009-04-01T00:00:00.000000000', '2009-03-01T00:00:00.000000000',\n",
       "       '2009-02-01T00:00:00.000000000', '2009-01-01T00:00:00.000000000',\n",
       "       '2008-12-01T00:00:00.000000000', '2008-11-01T00:00:00.000000000',\n",
       "       '2008-10-01T00:00:00.000000000', '2008-09-01T00:00:00.000000000',\n",
       "       '2008-08-01T00:00:00.000000000', '2008-07-01T00:00:00.000000000',\n",
       "       '2008-06-01T00:00:00.000000000', '2008-05-01T00:00:00.000000000',\n",
       "       '2008-04-01T00:00:00.000000000', '2008-03-01T00:00:00.000000000',\n",
       "       '2008-02-01T00:00:00.000000000', '2008-01-01T00:00:00.000000000',\n",
       "       '2007-12-01T00:00:00.000000000', '2007-11-01T00:00:00.000000000',\n",
       "       '2007-10-01T00:00:00.000000000', '2007-09-01T00:00:00.000000000',\n",
       "       '2007-08-01T00:00:00.000000000', '2007-07-01T00:00:00.000000000',\n",
       "       '2007-06-01T00:00:00.000000000', '2012-12-01T00:00:00.000000000',\n",
       "       '2012-11-01T00:00:00.000000000', '2012-10-01T00:00:00.000000000',\n",
       "       '2012-09-01T00:00:00.000000000', '2012-08-01T00:00:00.000000000',\n",
       "       '2012-07-01T00:00:00.000000000', '2012-06-01T00:00:00.000000000',\n",
       "       '2012-05-01T00:00:00.000000000', '2012-04-01T00:00:00.000000000',\n",
       "       '2012-03-01T00:00:00.000000000', '2012-02-01T00:00:00.000000000',\n",
       "       '2012-01-01T00:00:00.000000000'], dtype='datetime64[ns]')"
      ]
     },
     "execution_count": 21,
     "metadata": {},
     "output_type": "execute_result"
    }
   ],
   "source": [
    "first_date=dt.date(2012,12,31)\n",
    "loan_main=loan_main[loan_main.issue_d < first_date]\n",
    "loan_main['issue_d'].unique()"
   ]
  },
  {
   "cell_type": "code",
   "execution_count": 22,
   "metadata": {},
   "outputs": [
    {
     "data": {
      "text/html": [
       "<div>\n",
       "<style>\n",
       "    .dataframe thead tr:only-child th {\n",
       "        text-align: right;\n",
       "    }\n",
       "\n",
       "    .dataframe thead th {\n",
       "        text-align: left;\n",
       "    }\n",
       "\n",
       "    .dataframe tbody tr th {\n",
       "        vertical-align: top;\n",
       "    }\n",
       "</style>\n",
       "<table border=\"1\" class=\"dataframe\">\n",
       "  <thead>\n",
       "    <tr style=\"text-align: right;\">\n",
       "      <th></th>\n",
       "      <th>loan_amnt</th>\n",
       "      <th>funded_amnt</th>\n",
       "      <th>term</th>\n",
       "      <th>int_rate</th>\n",
       "      <th>grade</th>\n",
       "      <th>annual_inc</th>\n",
       "      <th>issue_d</th>\n",
       "      <th>loan_status</th>\n",
       "      <th>dti</th>\n",
       "      <th>revol_bal</th>\n",
       "      <th>total_pymnt</th>\n",
       "    </tr>\n",
       "  </thead>\n",
       "  <tbody>\n",
       "    <tr>\n",
       "      <th>0</th>\n",
       "      <td>5000.0</td>\n",
       "      <td>5000.0</td>\n",
       "      <td>36 months</td>\n",
       "      <td>10.65</td>\n",
       "      <td>B</td>\n",
       "      <td>24000.0</td>\n",
       "      <td>2011-12-01</td>\n",
       "      <td>Fully Paid</td>\n",
       "      <td>27.65</td>\n",
       "      <td>13648.0</td>\n",
       "      <td>5861.071414</td>\n",
       "    </tr>\n",
       "    <tr>\n",
       "      <th>2</th>\n",
       "      <td>2400.0</td>\n",
       "      <td>2400.0</td>\n",
       "      <td>36 months</td>\n",
       "      <td>15.96</td>\n",
       "      <td>C</td>\n",
       "      <td>12252.0</td>\n",
       "      <td>2011-12-01</td>\n",
       "      <td>Fully Paid</td>\n",
       "      <td>8.72</td>\n",
       "      <td>2956.0</td>\n",
       "      <td>3003.653644</td>\n",
       "    </tr>\n",
       "    <tr>\n",
       "      <th>3</th>\n",
       "      <td>10000.0</td>\n",
       "      <td>10000.0</td>\n",
       "      <td>36 months</td>\n",
       "      <td>13.49</td>\n",
       "      <td>C</td>\n",
       "      <td>49200.0</td>\n",
       "      <td>2011-12-01</td>\n",
       "      <td>Fully Paid</td>\n",
       "      <td>20.00</td>\n",
       "      <td>5598.0</td>\n",
       "      <td>12226.302212</td>\n",
       "    </tr>\n",
       "    <tr>\n",
       "      <th>5</th>\n",
       "      <td>5000.0</td>\n",
       "      <td>5000.0</td>\n",
       "      <td>36 months</td>\n",
       "      <td>7.90</td>\n",
       "      <td>A</td>\n",
       "      <td>36000.0</td>\n",
       "      <td>2011-12-01</td>\n",
       "      <td>Fully Paid</td>\n",
       "      <td>11.20</td>\n",
       "      <td>7963.0</td>\n",
       "      <td>5631.377753</td>\n",
       "    </tr>\n",
       "    <tr>\n",
       "      <th>7</th>\n",
       "      <td>3000.0</td>\n",
       "      <td>3000.0</td>\n",
       "      <td>36 months</td>\n",
       "      <td>18.64</td>\n",
       "      <td>E</td>\n",
       "      <td>48000.0</td>\n",
       "      <td>2011-12-01</td>\n",
       "      <td>Fully Paid</td>\n",
       "      <td>5.35</td>\n",
       "      <td>8221.0</td>\n",
       "      <td>3938.144334</td>\n",
       "    </tr>\n",
       "  </tbody>\n",
       "</table>\n",
       "</div>"
      ],
      "text/plain": [
       "   loan_amnt  funded_amnt        term  int_rate grade  annual_inc    issue_d  \\\n",
       "0     5000.0       5000.0   36 months     10.65     B     24000.0 2011-12-01   \n",
       "2     2400.0       2400.0   36 months     15.96     C     12252.0 2011-12-01   \n",
       "3    10000.0      10000.0   36 months     13.49     C     49200.0 2011-12-01   \n",
       "5     5000.0       5000.0   36 months      7.90     A     36000.0 2011-12-01   \n",
       "7     3000.0       3000.0   36 months     18.64     E     48000.0 2011-12-01   \n",
       "\n",
       "  loan_status    dti  revol_bal   total_pymnt  \n",
       "0  Fully Paid  27.65    13648.0   5861.071414  \n",
       "2  Fully Paid   8.72     2956.0   3003.653644  \n",
       "3  Fully Paid  20.00     5598.0  12226.302212  \n",
       "5  Fully Paid  11.20     7963.0   5631.377753  \n",
       "7  Fully Paid   5.35     8221.0   3938.144334  "
      ]
     },
     "execution_count": 22,
     "metadata": {},
     "output_type": "execute_result"
    }
   ],
   "source": [
    "loan_main.head()"
   ]
  },
  {
   "cell_type": "markdown",
   "metadata": {},
   "source": [
    "###### 1) What percentage of loans has been fully paid? "
   ]
  },
  {
   "cell_type": "code",
   "execution_count": 23,
   "metadata": {},
   "outputs": [
    {
     "name": "stdout",
     "output_type": "stream",
     "text": [
      "['Fully Paid' 'Charged Off' 'Current' 'Default' 'Late (31-120 days)'\n",
      " 'In Grace Period' 'Late (16-30 days)'\n",
      " 'Does not meet the credit policy. Status:Fully Paid'\n",
      " 'Does not meet the credit policy. Status:Charged Off' 'Issued']\n"
     ]
    }
   ],
   "source": [
    "print(pvt['loan_status'].unique())\n"
   ]
  },
  {
   "cell_type": "code",
   "execution_count": 24,
   "metadata": {},
   "outputs": [
    {
     "name": "stdout",
     "output_type": "stream",
     "text": [
      "1    63357\n",
      "0    11647\n",
      "Name: Fully Paid, dtype: int64\n",
      "0.844714948536\n"
     ]
    }
   ],
   "source": [
    "x1=pd.get_dummies(loan_main['loan_status'], drop_first=False)\n",
    "print(x1['Fully Paid'].value_counts())\n",
    "print(x1['Fully Paid'].value_counts()[1]/(x1['Fully Paid'].value_counts()[0]+x1['Fully Paid'].value_counts()[1]))"
   ]
  },
  {
   "cell_type": "markdown",
   "metadata": {},
   "source": [
    "84.447% of loans have been fully paid off."
   ]
  },
  {
   "cell_type": "markdown",
   "metadata": {},
   "source": [
    "###### 2) When bucketed by year of origination and grade, which cohort has the highest rate of defaults? \n",
    "Here you may assume that any loan which was not fully paid had “defaulted”."
   ]
  },
  {
   "cell_type": "code",
   "execution_count": 25,
   "metadata": {},
   "outputs": [
    {
     "data": {
      "text/html": [
       "<div>\n",
       "<style>\n",
       "    .dataframe thead tr:only-child th {\n",
       "        text-align: right;\n",
       "    }\n",
       "\n",
       "    .dataframe thead th {\n",
       "        text-align: left;\n",
       "    }\n",
       "\n",
       "    .dataframe tbody tr th {\n",
       "        vertical-align: top;\n",
       "    }\n",
       "</style>\n",
       "<table border=\"1\" class=\"dataframe\">\n",
       "  <thead>\n",
       "    <tr style=\"text-align: right;\">\n",
       "      <th></th>\n",
       "      <th>loan_amnt</th>\n",
       "      <th>funded_amnt</th>\n",
       "      <th>term</th>\n",
       "      <th>int_rate</th>\n",
       "      <th>grade</th>\n",
       "      <th>annual_inc</th>\n",
       "      <th>issue_d</th>\n",
       "      <th>loan_status</th>\n",
       "      <th>dti</th>\n",
       "      <th>revol_bal</th>\n",
       "      <th>total_pymnt</th>\n",
       "      <th>default</th>\n",
       "      <th>total</th>\n",
       "    </tr>\n",
       "  </thead>\n",
       "  <tbody>\n",
       "    <tr>\n",
       "      <th>0</th>\n",
       "      <td>5000.0</td>\n",
       "      <td>5000.0</td>\n",
       "      <td>36 months</td>\n",
       "      <td>10.65</td>\n",
       "      <td>B</td>\n",
       "      <td>24000.0</td>\n",
       "      <td>2011-12-01</td>\n",
       "      <td>Fully Paid</td>\n",
       "      <td>27.65</td>\n",
       "      <td>13648.0</td>\n",
       "      <td>5861.071414</td>\n",
       "      <td>0</td>\n",
       "      <td>1</td>\n",
       "    </tr>\n",
       "    <tr>\n",
       "      <th>2</th>\n",
       "      <td>2400.0</td>\n",
       "      <td>2400.0</td>\n",
       "      <td>36 months</td>\n",
       "      <td>15.96</td>\n",
       "      <td>C</td>\n",
       "      <td>12252.0</td>\n",
       "      <td>2011-12-01</td>\n",
       "      <td>Fully Paid</td>\n",
       "      <td>8.72</td>\n",
       "      <td>2956.0</td>\n",
       "      <td>3003.653644</td>\n",
       "      <td>0</td>\n",
       "      <td>1</td>\n",
       "    </tr>\n",
       "    <tr>\n",
       "      <th>3</th>\n",
       "      <td>10000.0</td>\n",
       "      <td>10000.0</td>\n",
       "      <td>36 months</td>\n",
       "      <td>13.49</td>\n",
       "      <td>C</td>\n",
       "      <td>49200.0</td>\n",
       "      <td>2011-12-01</td>\n",
       "      <td>Fully Paid</td>\n",
       "      <td>20.00</td>\n",
       "      <td>5598.0</td>\n",
       "      <td>12226.302212</td>\n",
       "      <td>0</td>\n",
       "      <td>1</td>\n",
       "    </tr>\n",
       "    <tr>\n",
       "      <th>5</th>\n",
       "      <td>5000.0</td>\n",
       "      <td>5000.0</td>\n",
       "      <td>36 months</td>\n",
       "      <td>7.90</td>\n",
       "      <td>A</td>\n",
       "      <td>36000.0</td>\n",
       "      <td>2011-12-01</td>\n",
       "      <td>Fully Paid</td>\n",
       "      <td>11.20</td>\n",
       "      <td>7963.0</td>\n",
       "      <td>5631.377753</td>\n",
       "      <td>0</td>\n",
       "      <td>1</td>\n",
       "    </tr>\n",
       "    <tr>\n",
       "      <th>7</th>\n",
       "      <td>3000.0</td>\n",
       "      <td>3000.0</td>\n",
       "      <td>36 months</td>\n",
       "      <td>18.64</td>\n",
       "      <td>E</td>\n",
       "      <td>48000.0</td>\n",
       "      <td>2011-12-01</td>\n",
       "      <td>Fully Paid</td>\n",
       "      <td>5.35</td>\n",
       "      <td>8221.0</td>\n",
       "      <td>3938.144334</td>\n",
       "      <td>0</td>\n",
       "      <td>1</td>\n",
       "    </tr>\n",
       "  </tbody>\n",
       "</table>\n",
       "</div>"
      ],
      "text/plain": [
       "   loan_amnt  funded_amnt        term  int_rate grade  annual_inc    issue_d  \\\n",
       "0     5000.0       5000.0   36 months     10.65     B     24000.0 2011-12-01   \n",
       "2     2400.0       2400.0   36 months     15.96     C     12252.0 2011-12-01   \n",
       "3    10000.0      10000.0   36 months     13.49     C     49200.0 2011-12-01   \n",
       "5     5000.0       5000.0   36 months      7.90     A     36000.0 2011-12-01   \n",
       "7     3000.0       3000.0   36 months     18.64     E     48000.0 2011-12-01   \n",
       "\n",
       "  loan_status    dti  revol_bal   total_pymnt  default  total  \n",
       "0  Fully Paid  27.65    13648.0   5861.071414        0      1  \n",
       "2  Fully Paid   8.72     2956.0   3003.653644        0      1  \n",
       "3  Fully Paid  20.00     5598.0  12226.302212        0      1  \n",
       "5  Fully Paid  11.20     7963.0   5631.377753        0      1  \n",
       "7  Fully Paid   5.35     8221.0   3938.144334        0      1  "
      ]
     },
     "execution_count": 25,
     "metadata": {},
     "output_type": "execute_result"
    }
   ],
   "source": [
    "paid = {'Fully Paid'}\n",
    "loan_main['default'] = loan_main.loan_status.apply(lambda x: 0 if x in paid else 1)\n",
    "loan_main['total'] = loan_main.loan_status.apply(lambda x: 1 if x in paid else 1)\n",
    "loan_main.head()"
   ]
  },
  {
   "cell_type": "code",
   "execution_count": 26,
   "metadata": {},
   "outputs": [
    {
     "data": {
      "text/html": [
       "<div>\n",
       "<style>\n",
       "    .dataframe thead tr:only-child th {\n",
       "        text-align: right;\n",
       "    }\n",
       "\n",
       "    .dataframe thead th {\n",
       "        text-align: left;\n",
       "    }\n",
       "\n",
       "    .dataframe tbody tr th {\n",
       "        vertical-align: top;\n",
       "    }\n",
       "</style>\n",
       "<table border=\"1\" class=\"dataframe\">\n",
       "  <thead>\n",
       "    <tr style=\"text-align: right;\">\n",
       "      <th></th>\n",
       "      <th></th>\n",
       "      <th>loan_amnt</th>\n",
       "      <th>funded_amnt</th>\n",
       "      <th>int_rate</th>\n",
       "      <th>annual_inc</th>\n",
       "      <th>dti</th>\n",
       "      <th>revol_bal</th>\n",
       "      <th>total_pymnt</th>\n",
       "      <th>default</th>\n",
       "      <th>total</th>\n",
       "      <th>pct_default</th>\n",
       "    </tr>\n",
       "    <tr>\n",
       "      <th>issue_d</th>\n",
       "      <th>grade</th>\n",
       "      <th></th>\n",
       "      <th></th>\n",
       "      <th></th>\n",
       "      <th></th>\n",
       "      <th></th>\n",
       "      <th></th>\n",
       "      <th></th>\n",
       "      <th></th>\n",
       "      <th></th>\n",
       "      <th></th>\n",
       "    </tr>\n",
       "  </thead>\n",
       "  <tbody>\n",
       "    <tr>\n",
       "      <th>2012-11-01</th>\n",
       "      <th>B</th>\n",
       "      <td>22353450.0</td>\n",
       "      <td>22353450.0</td>\n",
       "      <td>25637.23</td>\n",
       "      <td>1.356026e+08</td>\n",
       "      <td>37395.24</td>\n",
       "      <td>31298829.0</td>\n",
       "      <td>2.471654e+07</td>\n",
       "      <td>257</td>\n",
       "      <td>2081</td>\n",
       "      <td>0.123498</td>\n",
       "    </tr>\n",
       "    <tr>\n",
       "      <th>2012-09-01</th>\n",
       "      <th>B</th>\n",
       "      <td>21756250.0</td>\n",
       "      <td>21756250.0</td>\n",
       "      <td>25597.30</td>\n",
       "      <td>1.256999e+08</td>\n",
       "      <td>36446.75</td>\n",
       "      <td>28945702.0</td>\n",
       "      <td>2.406466e+07</td>\n",
       "      <td>254</td>\n",
       "      <td>2077</td>\n",
       "      <td>0.122292</td>\n",
       "    </tr>\n",
       "    <tr>\n",
       "      <th>2012-10-01</th>\n",
       "      <th>B</th>\n",
       "      <td>22176100.0</td>\n",
       "      <td>22176100.0</td>\n",
       "      <td>26556.01</td>\n",
       "      <td>1.268039e+08</td>\n",
       "      <td>39097.67</td>\n",
       "      <td>28921118.0</td>\n",
       "      <td>2.453530e+07</td>\n",
       "      <td>253</td>\n",
       "      <td>2166</td>\n",
       "      <td>0.116805</td>\n",
       "    </tr>\n",
       "    <tr>\n",
       "      <th>2012-08-01</th>\n",
       "      <th>B</th>\n",
       "      <td>18006075.0</td>\n",
       "      <td>18006075.0</td>\n",
       "      <td>21248.17</td>\n",
       "      <td>1.065109e+08</td>\n",
       "      <td>30629.33</td>\n",
       "      <td>23147811.0</td>\n",
       "      <td>1.979213e+07</td>\n",
       "      <td>230</td>\n",
       "      <td>1722</td>\n",
       "      <td>0.133566</td>\n",
       "    </tr>\n",
       "    <tr>\n",
       "      <th>2012-11-01</th>\n",
       "      <th>C</th>\n",
       "      <td>15105900.0</td>\n",
       "      <td>15105900.0</td>\n",
       "      <td>20189.63</td>\n",
       "      <td>8.868590e+07</td>\n",
       "      <td>23670.15</td>\n",
       "      <td>19607757.0</td>\n",
       "      <td>1.696147e+07</td>\n",
       "      <td>216</td>\n",
       "      <td>1308</td>\n",
       "      <td>0.165138</td>\n",
       "    </tr>\n",
       "  </tbody>\n",
       "</table>\n",
       "</div>"
      ],
      "text/plain": [
       "                   loan_amnt  funded_amnt  int_rate    annual_inc       dti  \\\n",
       "issue_d    grade                                                              \n",
       "2012-11-01 B      22353450.0   22353450.0  25637.23  1.356026e+08  37395.24   \n",
       "2012-09-01 B      21756250.0   21756250.0  25597.30  1.256999e+08  36446.75   \n",
       "2012-10-01 B      22176100.0   22176100.0  26556.01  1.268039e+08  39097.67   \n",
       "2012-08-01 B      18006075.0   18006075.0  21248.17  1.065109e+08  30629.33   \n",
       "2012-11-01 C      15105900.0   15105900.0  20189.63  8.868590e+07  23670.15   \n",
       "\n",
       "                   revol_bal   total_pymnt  default  total  pct_default  \n",
       "issue_d    grade                                                         \n",
       "2012-11-01 B      31298829.0  2.471654e+07      257   2081     0.123498  \n",
       "2012-09-01 B      28945702.0  2.406466e+07      254   2077     0.122292  \n",
       "2012-10-01 B      28921118.0  2.453530e+07      253   2166     0.116805  \n",
       "2012-08-01 B      23147811.0  1.979213e+07      230   1722     0.133566  \n",
       "2012-11-01 C      19607757.0  1.696147e+07      216   1308     0.165138  "
      ]
     },
     "execution_count": 26,
     "metadata": {},
     "output_type": "execute_result"
    }
   ],
   "source": [
    "x=loan_main.groupby(['issue_d', 'grade']).sum().sort_values('default', ascending=False)\n",
    "x['pct_default']=x['default']/x['total']\n",
    "x.sort_values('default', ascending=False).head()"
   ]
  },
  {
   "cell_type": "code",
   "execution_count": 27,
   "metadata": {},
   "outputs": [
    {
     "data": {
      "text/html": [
       "<div>\n",
       "<style>\n",
       "    .dataframe thead tr:only-child th {\n",
       "        text-align: right;\n",
       "    }\n",
       "\n",
       "    .dataframe thead th {\n",
       "        text-align: left;\n",
       "    }\n",
       "\n",
       "    .dataframe tbody tr th {\n",
       "        vertical-align: top;\n",
       "    }\n",
       "</style>\n",
       "<table border=\"1\" class=\"dataframe\">\n",
       "  <thead>\n",
       "    <tr style=\"text-align: right;\">\n",
       "      <th></th>\n",
       "      <th></th>\n",
       "      <th>loan_amnt</th>\n",
       "      <th>funded_amnt</th>\n",
       "      <th>int_rate</th>\n",
       "      <th>annual_inc</th>\n",
       "      <th>dti</th>\n",
       "      <th>revol_bal</th>\n",
       "      <th>total_pymnt</th>\n",
       "      <th>default</th>\n",
       "      <th>total</th>\n",
       "      <th>pct_default</th>\n",
       "    </tr>\n",
       "    <tr>\n",
       "      <th>issue_d</th>\n",
       "      <th>grade</th>\n",
       "      <th></th>\n",
       "      <th></th>\n",
       "      <th></th>\n",
       "      <th></th>\n",
       "      <th></th>\n",
       "      <th></th>\n",
       "      <th></th>\n",
       "      <th></th>\n",
       "      <th></th>\n",
       "      <th></th>\n",
       "    </tr>\n",
       "  </thead>\n",
       "  <tbody>\n",
       "    <tr>\n",
       "      <th>2007-06-01</th>\n",
       "      <th>C</th>\n",
       "      <td>32850.0</td>\n",
       "      <td>32850.0</td>\n",
       "      <td>65.44</td>\n",
       "      <td>360000.0</td>\n",
       "      <td>64.52</td>\n",
       "      <td>13660.0</td>\n",
       "      <td>37288.66</td>\n",
       "      <td>6</td>\n",
       "      <td>6</td>\n",
       "      <td>1.0</td>\n",
       "    </tr>\n",
       "    <tr>\n",
       "      <th>2007-12-01</th>\n",
       "      <th>G</th>\n",
       "      <td>98375.0</td>\n",
       "      <td>89975.0</td>\n",
       "      <td>138.61</td>\n",
       "      <td>713000.0</td>\n",
       "      <td>174.64</td>\n",
       "      <td>205744.0</td>\n",
       "      <td>97984.24</td>\n",
       "      <td>8</td>\n",
       "      <td>8</td>\n",
       "      <td>1.0</td>\n",
       "    </tr>\n",
       "    <tr>\n",
       "      <th>2011-04-01</th>\n",
       "      <th>G</th>\n",
       "      <td>54000.0</td>\n",
       "      <td>54000.0</td>\n",
       "      <td>40.59</td>\n",
       "      <td>160000.0</td>\n",
       "      <td>30.53</td>\n",
       "      <td>54915.0</td>\n",
       "      <td>21916.79</td>\n",
       "      <td>2</td>\n",
       "      <td>2</td>\n",
       "      <td>1.0</td>\n",
       "    </tr>\n",
       "    <tr>\n",
       "      <th>2008-09-01</th>\n",
       "      <th>E</th>\n",
       "      <td>45000.0</td>\n",
       "      <td>42400.0</td>\n",
       "      <td>150.02</td>\n",
       "      <td>605981.2</td>\n",
       "      <td>177.85</td>\n",
       "      <td>194453.0</td>\n",
       "      <td>43470.81</td>\n",
       "      <td>10</td>\n",
       "      <td>10</td>\n",
       "      <td>1.0</td>\n",
       "    </tr>\n",
       "    <tr>\n",
       "      <th>2008-11-01</th>\n",
       "      <th>G</th>\n",
       "      <td>36500.0</td>\n",
       "      <td>36500.0</td>\n",
       "      <td>37.76</td>\n",
       "      <td>183000.0</td>\n",
       "      <td>25.64</td>\n",
       "      <td>36918.0</td>\n",
       "      <td>16653.16</td>\n",
       "      <td>2</td>\n",
       "      <td>2</td>\n",
       "      <td>1.0</td>\n",
       "    </tr>\n",
       "  </tbody>\n",
       "</table>\n",
       "</div>"
      ],
      "text/plain": [
       "                  loan_amnt  funded_amnt  int_rate  annual_inc     dti  \\\n",
       "issue_d    grade                                                         \n",
       "2007-06-01 C        32850.0      32850.0     65.44    360000.0   64.52   \n",
       "2007-12-01 G        98375.0      89975.0    138.61    713000.0  174.64   \n",
       "2011-04-01 G        54000.0      54000.0     40.59    160000.0   30.53   \n",
       "2008-09-01 E        45000.0      42400.0    150.02    605981.2  177.85   \n",
       "2008-11-01 G        36500.0      36500.0     37.76    183000.0   25.64   \n",
       "\n",
       "                  revol_bal  total_pymnt  default  total  pct_default  \n",
       "issue_d    grade                                                       \n",
       "2007-06-01 C        13660.0     37288.66        6      6          1.0  \n",
       "2007-12-01 G       205744.0     97984.24        8      8          1.0  \n",
       "2011-04-01 G        54915.0     21916.79        2      2          1.0  \n",
       "2008-09-01 E       194453.0     43470.81       10     10          1.0  \n",
       "2008-11-01 G        36918.0     16653.16        2      2          1.0  "
      ]
     },
     "execution_count": 27,
     "metadata": {},
     "output_type": "execute_result"
    }
   ],
   "source": [
    "x.sort_values('pct_default', ascending=False).head()"
   ]
  },
  {
   "cell_type": "markdown",
   "metadata": {},
   "source": [
    "The bucketed group with the most defaults is loans issued on November-2012 with a grade of B.\n",
    "However, there are some groups of loans that had a 100% default rate as is illustrated above."
   ]
  },
  {
   "cell_type": "markdown",
   "metadata": {},
   "source": [
    "The Bucketed group with the most defaults is loans issued on Oct-2015 with a grade of B. This is interesting because if you look at the loans with the least amount of default you see that they were all issued in 2008 after crisis happened. So, it appears timing has a massive effect on loan default."
   ]
  },
  {
   "cell_type": "markdown",
   "metadata": {},
   "source": [
    "###### 3) When bucketed by year of origination and grade, what annualized rate of return have these loans generated on average?\n",
    "For simplicity, use the following approximation:\n",
    "Annualized rate of return = (total_pymnt / funded_amnt) ^ (1/3) - 1\n"
   ]
  },
  {
   "cell_type": "code",
   "execution_count": 28,
   "metadata": {},
   "outputs": [
    {
     "data": {
      "text/html": [
       "<div>\n",
       "<style>\n",
       "    .dataframe thead tr:only-child th {\n",
       "        text-align: right;\n",
       "    }\n",
       "\n",
       "    .dataframe thead th {\n",
       "        text-align: left;\n",
       "    }\n",
       "\n",
       "    .dataframe tbody tr th {\n",
       "        vertical-align: top;\n",
       "    }\n",
       "</style>\n",
       "<table border=\"1\" class=\"dataframe\">\n",
       "  <thead>\n",
       "    <tr style=\"text-align: right;\">\n",
       "      <th></th>\n",
       "      <th>loan_amnt</th>\n",
       "      <th>funded_amnt</th>\n",
       "      <th>term</th>\n",
       "      <th>int_rate</th>\n",
       "      <th>grade</th>\n",
       "      <th>annual_inc</th>\n",
       "      <th>issue_d</th>\n",
       "      <th>loan_status</th>\n",
       "      <th>dti</th>\n",
       "      <th>revol_bal</th>\n",
       "      <th>total_pymnt</th>\n",
       "      <th>default</th>\n",
       "      <th>total</th>\n",
       "      <th>Ann_ret</th>\n",
       "    </tr>\n",
       "  </thead>\n",
       "  <tbody>\n",
       "    <tr>\n",
       "      <th>0</th>\n",
       "      <td>5000.0</td>\n",
       "      <td>5000.0</td>\n",
       "      <td>36 months</td>\n",
       "      <td>10.65</td>\n",
       "      <td>B</td>\n",
       "      <td>24000.0</td>\n",
       "      <td>2011-12-01</td>\n",
       "      <td>Fully Paid</td>\n",
       "      <td>27.65</td>\n",
       "      <td>13648.0</td>\n",
       "      <td>5861.071414</td>\n",
       "      <td>0</td>\n",
       "      <td>1</td>\n",
       "      <td>0.054393</td>\n",
       "    </tr>\n",
       "    <tr>\n",
       "      <th>2</th>\n",
       "      <td>2400.0</td>\n",
       "      <td>2400.0</td>\n",
       "      <td>36 months</td>\n",
       "      <td>15.96</td>\n",
       "      <td>C</td>\n",
       "      <td>12252.0</td>\n",
       "      <td>2011-12-01</td>\n",
       "      <td>Fully Paid</td>\n",
       "      <td>8.72</td>\n",
       "      <td>2956.0</td>\n",
       "      <td>3003.653644</td>\n",
       "      <td>0</td>\n",
       "      <td>1</td>\n",
       "      <td>0.077654</td>\n",
       "    </tr>\n",
       "    <tr>\n",
       "      <th>3</th>\n",
       "      <td>10000.0</td>\n",
       "      <td>10000.0</td>\n",
       "      <td>36 months</td>\n",
       "      <td>13.49</td>\n",
       "      <td>C</td>\n",
       "      <td>49200.0</td>\n",
       "      <td>2011-12-01</td>\n",
       "      <td>Fully Paid</td>\n",
       "      <td>20.00</td>\n",
       "      <td>5598.0</td>\n",
       "      <td>12226.302212</td>\n",
       "      <td>0</td>\n",
       "      <td>1</td>\n",
       "      <td>0.069297</td>\n",
       "    </tr>\n",
       "    <tr>\n",
       "      <th>5</th>\n",
       "      <td>5000.0</td>\n",
       "      <td>5000.0</td>\n",
       "      <td>36 months</td>\n",
       "      <td>7.90</td>\n",
       "      <td>A</td>\n",
       "      <td>36000.0</td>\n",
       "      <td>2011-12-01</td>\n",
       "      <td>Fully Paid</td>\n",
       "      <td>11.20</td>\n",
       "      <td>7963.0</td>\n",
       "      <td>5631.377753</td>\n",
       "      <td>0</td>\n",
       "      <td>1</td>\n",
       "      <td>0.040435</td>\n",
       "    </tr>\n",
       "    <tr>\n",
       "      <th>7</th>\n",
       "      <td>3000.0</td>\n",
       "      <td>3000.0</td>\n",
       "      <td>36 months</td>\n",
       "      <td>18.64</td>\n",
       "      <td>E</td>\n",
       "      <td>48000.0</td>\n",
       "      <td>2011-12-01</td>\n",
       "      <td>Fully Paid</td>\n",
       "      <td>5.35</td>\n",
       "      <td>8221.0</td>\n",
       "      <td>3938.144334</td>\n",
       "      <td>0</td>\n",
       "      <td>1</td>\n",
       "      <td>0.094940</td>\n",
       "    </tr>\n",
       "  </tbody>\n",
       "</table>\n",
       "</div>"
      ],
      "text/plain": [
       "   loan_amnt  funded_amnt        term  int_rate grade  annual_inc    issue_d  \\\n",
       "0     5000.0       5000.0   36 months     10.65     B     24000.0 2011-12-01   \n",
       "2     2400.0       2400.0   36 months     15.96     C     12252.0 2011-12-01   \n",
       "3    10000.0      10000.0   36 months     13.49     C     49200.0 2011-12-01   \n",
       "5     5000.0       5000.0   36 months      7.90     A     36000.0 2011-12-01   \n",
       "7     3000.0       3000.0   36 months     18.64     E     48000.0 2011-12-01   \n",
       "\n",
       "  loan_status    dti  revol_bal   total_pymnt  default  total   Ann_ret  \n",
       "0  Fully Paid  27.65    13648.0   5861.071414        0      1  0.054393  \n",
       "2  Fully Paid   8.72     2956.0   3003.653644        0      1  0.077654  \n",
       "3  Fully Paid  20.00     5598.0  12226.302212        0      1  0.069297  \n",
       "5  Fully Paid  11.20     7963.0   5631.377753        0      1  0.040435  \n",
       "7  Fully Paid   5.35     8221.0   3938.144334        0      1  0.094940  "
      ]
     },
     "execution_count": 28,
     "metadata": {},
     "output_type": "execute_result"
    }
   ],
   "source": [
    "paid = {'Fully Paid'}\n",
    "loan_main['Ann_ret'] = (loan_main.total_pymnt / loan_main.funded_amnt)**(1/3)-1 \n",
    "loan_main.head()"
   ]
  },
  {
   "cell_type": "code",
   "execution_count": 29,
   "metadata": {
    "scrolled": true
   },
   "outputs": [
    {
     "data": {
      "text/html": [
       "<div>\n",
       "<style>\n",
       "    .dataframe thead tr:only-child th {\n",
       "        text-align: right;\n",
       "    }\n",
       "\n",
       "    .dataframe thead th {\n",
       "        text-align: left;\n",
       "    }\n",
       "\n",
       "    .dataframe tbody tr th {\n",
       "        vertical-align: top;\n",
       "    }\n",
       "</style>\n",
       "<table border=\"1\" class=\"dataframe\">\n",
       "  <thead>\n",
       "    <tr style=\"text-align: right;\">\n",
       "      <th></th>\n",
       "      <th></th>\n",
       "      <th>loan_amnt</th>\n",
       "      <th>funded_amnt</th>\n",
       "      <th>term</th>\n",
       "      <th>int_rate</th>\n",
       "      <th>annual_inc</th>\n",
       "      <th>loan_status</th>\n",
       "      <th>dti</th>\n",
       "      <th>revol_bal</th>\n",
       "      <th>total_pymnt</th>\n",
       "      <th>default</th>\n",
       "      <th>total</th>\n",
       "      <th>Ann_ret</th>\n",
       "    </tr>\n",
       "    <tr>\n",
       "      <th>issue_d</th>\n",
       "      <th>grade</th>\n",
       "      <th></th>\n",
       "      <th></th>\n",
       "      <th></th>\n",
       "      <th></th>\n",
       "      <th></th>\n",
       "      <th></th>\n",
       "      <th></th>\n",
       "      <th></th>\n",
       "      <th></th>\n",
       "      <th></th>\n",
       "      <th></th>\n",
       "      <th></th>\n",
       "    </tr>\n",
       "  </thead>\n",
       "  <tbody>\n",
       "    <tr>\n",
       "      <th>2007-12-01</th>\n",
       "      <th>G</th>\n",
       "      <td>25000.0</td>\n",
       "      <td>25000.0</td>\n",
       "      <td>36 months</td>\n",
       "      <td>17.86</td>\n",
       "      <td>350000.0</td>\n",
       "      <td>Does not meet the credit policy. Status:Fully ...</td>\n",
       "      <td>28.73</td>\n",
       "      <td>128850.0</td>\n",
       "      <td>39473.920000</td>\n",
       "      <td>1</td>\n",
       "      <td>1</td>\n",
       "      <td>0.164457</td>\n",
       "    </tr>\n",
       "    <tr>\n",
       "      <th>2010-03-01</th>\n",
       "      <th>D</th>\n",
       "      <td>25000.0</td>\n",
       "      <td>25000.0</td>\n",
       "      <td>36 months</td>\n",
       "      <td>16.07</td>\n",
       "      <td>340000.0</td>\n",
       "      <td>Fully Paid</td>\n",
       "      <td>24.99</td>\n",
       "      <td>287002.0</td>\n",
       "      <td>38057.783022</td>\n",
       "      <td>1</td>\n",
       "      <td>1</td>\n",
       "      <td>0.150362</td>\n",
       "    </tr>\n",
       "    <tr>\n",
       "      <th>2010-06-01</th>\n",
       "      <th>C</th>\n",
       "      <td>25000.0</td>\n",
       "      <td>23050.0</td>\n",
       "      <td>36 months</td>\n",
       "      <td>14.72</td>\n",
       "      <td>200000.0</td>\n",
       "      <td>Fully Paid</td>\n",
       "      <td>24.56</td>\n",
       "      <td>100671.0</td>\n",
       "      <td>28355.330000</td>\n",
       "      <td>1</td>\n",
       "      <td>1</td>\n",
       "      <td>0.133803</td>\n",
       "    </tr>\n",
       "    <tr>\n",
       "      <th>2011-09-01</th>\n",
       "      <th>G</th>\n",
       "      <td>22250.0</td>\n",
       "      <td>22250.0</td>\n",
       "      <td>36 months</td>\n",
       "      <td>23.22</td>\n",
       "      <td>95000.0</td>\n",
       "      <td>Fully Paid</td>\n",
       "      <td>21.47</td>\n",
       "      <td>18724.0</td>\n",
       "      <td>32103.000950</td>\n",
       "      <td>0</td>\n",
       "      <td>1</td>\n",
       "      <td>0.129983</td>\n",
       "    </tr>\n",
       "    <tr>\n",
       "      <th>2012-11-01</th>\n",
       "      <th>G</th>\n",
       "      <td>23275.0</td>\n",
       "      <td>23275.0</td>\n",
       "      <td>36 months</td>\n",
       "      <td>24.83</td>\n",
       "      <td>65000.0</td>\n",
       "      <td>Fully Paid</td>\n",
       "      <td>16.58</td>\n",
       "      <td>34001.0</td>\n",
       "      <td>33239.450120</td>\n",
       "      <td>0</td>\n",
       "      <td>1</td>\n",
       "      <td>0.126129</td>\n",
       "    </tr>\n",
       "  </tbody>\n",
       "</table>\n",
       "</div>"
      ],
      "text/plain": [
       "                  loan_amnt  funded_amnt        term  int_rate  annual_inc  \\\n",
       "issue_d    grade                                                             \n",
       "2007-12-01 G        25000.0      25000.0   36 months     17.86    350000.0   \n",
       "2010-03-01 D        25000.0      25000.0   36 months     16.07    340000.0   \n",
       "2010-06-01 C        25000.0      23050.0   36 months     14.72    200000.0   \n",
       "2011-09-01 G        22250.0      22250.0   36 months     23.22     95000.0   \n",
       "2012-11-01 G        23275.0      23275.0   36 months     24.83     65000.0   \n",
       "\n",
       "                                                        loan_status    dti  \\\n",
       "issue_d    grade                                                             \n",
       "2007-12-01 G      Does not meet the credit policy. Status:Fully ...  28.73   \n",
       "2010-03-01 D                                             Fully Paid  24.99   \n",
       "2010-06-01 C                                             Fully Paid  24.56   \n",
       "2011-09-01 G                                             Fully Paid  21.47   \n",
       "2012-11-01 G                                             Fully Paid  16.58   \n",
       "\n",
       "                  revol_bal   total_pymnt  default  total   Ann_ret  \n",
       "issue_d    grade                                                     \n",
       "2007-12-01 G       128850.0  39473.920000        1      1  0.164457  \n",
       "2010-03-01 D       287002.0  38057.783022        1      1  0.150362  \n",
       "2010-06-01 C       100671.0  28355.330000        1      1  0.133803  \n",
       "2011-09-01 G        18724.0  32103.000950        0      1  0.129983  \n",
       "2012-11-01 G        34001.0  33239.450120        0      1  0.126129  "
      ]
     },
     "execution_count": 29,
     "metadata": {},
     "output_type": "execute_result"
    }
   ],
   "source": [
    "loan_main.groupby(['issue_d', 'grade']).max().sort_values('Ann_ret', ascending=False).head()"
   ]
  },
  {
   "cell_type": "markdown",
   "metadata": {},
   "source": [
    "We find that G has the highest rate of returns on average. This makes sense because for the additional risk the investors are taking on they expect a higher return."
   ]
  },
  {
   "cell_type": "markdown",
   "metadata": {
    "collapsed": true
   },
   "source": [
    "# Part 3\n",
    "Logistic Regression"
   ]
  },
  {
   "cell_type": "code",
   "execution_count": 30,
   "metadata": {},
   "outputs": [
    {
     "name": "stdout",
     "output_type": "stream",
     "text": [
      "0    63357\n",
      "1    11647\n",
      "Name: default, dtype: int64\n",
      "0    63357\n",
      "1    11647\n",
      "Name: default, dtype: int64\n"
     ]
    }
   ],
   "source": [
    "print(loan_main['default'].value_counts())\n",
    "data=loan_main\n",
    "print(data['default'].value_counts())"
   ]
  },
  {
   "cell_type": "markdown",
   "metadata": {},
   "source": [
    "###### Creating Dummy Variables\n",
    "First, I am going to create dummy variables for my categorical variables, excluding loan_status because that gives the default status implicitly. The variables that will be used are 'grade', 'term' and 'issue_d'. Each of these variables will be split into several different dummy variables, these dummy variables are what I will be using in my logistic regression. I dropped the first dummy variable of each new set because the first dummy variable is our base."
   ]
  },
  {
   "cell_type": "code",
   "execution_count": 31,
   "metadata": {
    "collapsed": true
   },
   "outputs": [],
   "source": [
    "x1=pd.get_dummies(data['issue_d'], 'date', drop_first=True)\n",
    "x2=pd.get_dummies(data['grade'], 'grade', drop_first=True)\n",
    "x3=pd.get_dummies(data['term'], 'term', drop_first=True)\n",
    "data=data.join(x1)\n",
    "data=data.join(x2)\n",
    "data=data.join(x3)"
   ]
  },
  {
   "cell_type": "markdown",
   "metadata": {},
   "source": [
    "The goal is to try and create a model that accurately predicts default probability. First, we will assume we have all the data to date. The last step will be to remove all the data that we wouldn't have at the loan’s origins. \n",
    "\n",
    "For now we will simply remove the initial categorical data we created dummy variables for."
   ]
  },
  {
   "cell_type": "code",
   "execution_count": 32,
   "metadata": {},
   "outputs": [
    {
     "data": {
      "text/plain": [
       "array(['loan_amnt', 'funded_amnt', 'int_rate', 'annual_inc', 'dti',\n",
       "       'revol_bal', 'total_pymnt', 'default', 'Ann_ret',\n",
       "       'date_2007-07-01 00:00:00', 'date_2007-08-01 00:00:00',\n",
       "       'date_2007-09-01 00:00:00', 'date_2007-10-01 00:00:00',\n",
       "       'date_2007-11-01 00:00:00', 'date_2007-12-01 00:00:00',\n",
       "       'date_2008-01-01 00:00:00', 'date_2008-02-01 00:00:00',\n",
       "       'date_2008-03-01 00:00:00', 'date_2008-04-01 00:00:00',\n",
       "       'date_2008-05-01 00:00:00', 'date_2008-06-01 00:00:00',\n",
       "       'date_2008-07-01 00:00:00', 'date_2008-08-01 00:00:00',\n",
       "       'date_2008-09-01 00:00:00', 'date_2008-10-01 00:00:00',\n",
       "       'date_2008-11-01 00:00:00', 'date_2008-12-01 00:00:00',\n",
       "       'date_2009-01-01 00:00:00', 'date_2009-02-01 00:00:00',\n",
       "       'date_2009-03-01 00:00:00', 'date_2009-04-01 00:00:00',\n",
       "       'date_2009-05-01 00:00:00', 'date_2009-06-01 00:00:00',\n",
       "       'date_2009-07-01 00:00:00', 'date_2009-08-01 00:00:00',\n",
       "       'date_2009-09-01 00:00:00', 'date_2009-10-01 00:00:00',\n",
       "       'date_2009-11-01 00:00:00', 'date_2009-12-01 00:00:00',\n",
       "       'date_2010-01-01 00:00:00', 'date_2010-02-01 00:00:00',\n",
       "       'date_2010-03-01 00:00:00', 'date_2010-04-01 00:00:00',\n",
       "       'date_2010-05-01 00:00:00', 'date_2010-06-01 00:00:00',\n",
       "       'date_2010-07-01 00:00:00', 'date_2010-08-01 00:00:00',\n",
       "       'date_2010-09-01 00:00:00', 'date_2010-10-01 00:00:00',\n",
       "       'date_2010-11-01 00:00:00', 'date_2010-12-01 00:00:00',\n",
       "       'date_2011-01-01 00:00:00', 'date_2011-02-01 00:00:00',\n",
       "       'date_2011-03-01 00:00:00', 'date_2011-04-01 00:00:00',\n",
       "       'date_2011-05-01 00:00:00', 'date_2011-06-01 00:00:00',\n",
       "       'date_2011-07-01 00:00:00', 'date_2011-08-01 00:00:00',\n",
       "       'date_2011-09-01 00:00:00', 'date_2011-10-01 00:00:00',\n",
       "       'date_2011-11-01 00:00:00', 'date_2011-12-01 00:00:00',\n",
       "       'date_2012-01-01 00:00:00', 'date_2012-02-01 00:00:00',\n",
       "       'date_2012-03-01 00:00:00', 'date_2012-04-01 00:00:00',\n",
       "       'date_2012-05-01 00:00:00', 'date_2012-06-01 00:00:00',\n",
       "       'date_2012-07-01 00:00:00', 'date_2012-08-01 00:00:00',\n",
       "       'date_2012-09-01 00:00:00', 'date_2012-10-01 00:00:00',\n",
       "       'date_2012-11-01 00:00:00', 'date_2012-12-01 00:00:00', 'grade_B',\n",
       "       'grade_C', 'grade_D', 'grade_E', 'grade_F', 'grade_G'], dtype=object)"
      ]
     },
     "execution_count": 32,
     "metadata": {},
     "output_type": "execute_result"
    }
   ],
   "source": [
    "cat_vars=['issue_d','grade','term','loan_status', 'total']\n",
    "data_vars=data.columns.values.tolist()\n",
    "to_keep=[i for i in data_vars if i not in cat_vars]\n",
    "data_final=data[to_keep]\n",
    "data_final.columns.values"
   ]
  },
  {
   "cell_type": "markdown",
   "metadata": {},
   "source": [
    "###### Split data\n",
    "Next, we need to split the data into a training set and a testing set. The goal is to not over fit your model. If you test your data with the same data, you trained your model with then you are likely to get an overfitted model. By splitting the data, you can test your model without using any of the data points you used to test the model. I tend to like to train using 70%-80% of my data and testing with the remaining 20%-30%. "
   ]
  },
  {
   "cell_type": "code",
   "execution_count": 33,
   "metadata": {
    "collapsed": true
   },
   "outputs": [],
   "source": [
    "X = data_final.loc[:, data_final.columns != 'default'].values\n",
    "y = data_final.loc[:, data_final.columns == 'default'].values\n",
    "X_train, X_test, y_train, y_test = train_test_split(X, y, test_size = .3, random_state=25)"
   ]
  },
  {
   "cell_type": "code",
   "execution_count": 34,
   "metadata": {},
   "outputs": [
    {
     "data": {
      "text/plain": [
       "LogisticRegression(C=1.0, class_weight=None, dual=False, fit_intercept=True,\n",
       "          intercept_scaling=1, max_iter=100, multi_class='ovr', n_jobs=1,\n",
       "          penalty='l2', random_state=None, solver='liblinear', tol=0.0001,\n",
       "          verbose=0, warm_start=False)"
      ]
     },
     "execution_count": 34,
     "metadata": {},
     "output_type": "execute_result"
    }
   ],
   "source": [
    "LogReg = LogisticRegression()\n",
    "LogReg.fit(X_train, np.concatenate(y_train))"
   ]
  },
  {
   "cell_type": "markdown",
   "metadata": {},
   "source": [
    "###### Test\n",
    "After fitting the model, we can use our x variables from our test data to predict the expected outcome of our y variables."
   ]
  },
  {
   "cell_type": "code",
   "execution_count": 35,
   "metadata": {
    "collapsed": true
   },
   "outputs": [],
   "source": [
    "y_pred = LogReg.predict(X_test)"
   ]
  },
  {
   "cell_type": "markdown",
   "metadata": {},
   "source": [
    "Finally, we compare our predictions with the actual results. The matrix reports the results in the following way. The top left corner is the “True Positive”, meaning it is the number of times the model correctly guessed a default. The bottom left is “False Positives”, the number of times the model incorrectly predicted a default. The bottom right is “True Negatives” the number of times the model correctly predicted no default. The top right is, “False Negatives”, the number of times the model incorrectly predicted no default. "
   ]
  },
  {
   "cell_type": "code",
   "execution_count": 36,
   "metadata": {},
   "outputs": [
    {
     "name": "stdout",
     "output_type": "stream",
     "text": [
      "[[18912    39]\n",
      " [ 1107  2444]]\n"
     ]
    }
   ],
   "source": [
    "from sklearn.metrics import confusion_matrix\n",
    "confusion_matrix = confusion_matrix(y_test, y_pred)\n",
    "print(confusion_matrix)"
   ]
  },
  {
   "cell_type": "markdown",
   "metadata": {},
   "source": [
    "Below is more measurement on the accuracy of our model. Precision is the ratio of the number of true positives and false positives.It determines how good the model is at not labeling a negative sample as positive. \n",
    "$$\\frac{TP}{TP+FP}$$\n",
    "Recall is the ratio of true positives to false negatives. It determines how good the model is at finding all positive samples.  \n",
    "$$\\frac{TP}{TP+FN}$$\n"
   ]
  },
  {
   "cell_type": "code",
   "execution_count": 37,
   "metadata": {},
   "outputs": [
    {
     "name": "stdout",
     "output_type": "stream",
     "text": [
      "             precision    recall  f1-score   support\n",
      "\n",
      "          0       0.94      1.00      0.97     18951\n",
      "          1       0.98      0.69      0.81      3551\n",
      "\n",
      "avg / total       0.95      0.95      0.95     22502\n",
      "\n"
     ]
    }
   ],
   "source": [
    "print(sklearn.metrics.classification_report(y_test, y_pred))"
   ]
  },
  {
   "cell_type": "markdown",
   "metadata": {},
   "source": [
    "###### Results\n",
    "From these results we can see that the model is very accurate. However, the model is limited in scope by its date specific variables. This essentially rendering it useless once these loans all expire.\n",
    "##### Test\n",
    "Let run the same regression without the date variables."
   ]
  },
  {
   "cell_type": "code",
   "execution_count": 46,
   "metadata": {
    "collapsed": true
   },
   "outputs": [],
   "source": [
    "data2=loan_main\n",
    "x2=pd.get_dummies(data2['grade'], 'grade', drop_first=True)\n",
    "x3=pd.get_dummies(data2['term'], 'term', drop_first=True)\n",
    "data2=data2.join(x2)\n",
    "data2=data2.join(x3)"
   ]
  },
  {
   "cell_type": "code",
   "execution_count": 47,
   "metadata": {},
   "outputs": [
    {
     "data": {
      "text/plain": [
       "array(['loan_amnt', 'funded_amnt', 'int_rate', 'annual_inc', 'dti',\n",
       "       'revol_bal', 'total_pymnt', 'default', 'Ann_ret', 'grade_B',\n",
       "       'grade_C', 'grade_D', 'grade_E', 'grade_F', 'grade_G'], dtype=object)"
      ]
     },
     "execution_count": 47,
     "metadata": {},
     "output_type": "execute_result"
    }
   ],
   "source": [
    "cat_vars=['issue_d','grade','term','loan_status', 'total']\n",
    "data_vars=data2.columns.values.tolist()\n",
    "to_keep=[i for i in data_vars if i not in cat_vars]\n",
    "data_final=data2[to_keep]\n",
    "data_final.columns.values"
   ]
  },
  {
   "cell_type": "code",
   "execution_count": 48,
   "metadata": {
    "collapsed": true
   },
   "outputs": [],
   "source": [
    "X = data_final.loc[:, data_final.columns != 'default'].values\n",
    "y = data_final.loc[:, data_final.columns == 'default'].values\n",
    "X_train, X_test, y_train, y_test = train_test_split(X, y, test_size = .30)"
   ]
  },
  {
   "cell_type": "code",
   "execution_count": 49,
   "metadata": {},
   "outputs": [
    {
     "data": {
      "text/plain": [
       "LogisticRegression(C=1.0, class_weight=None, dual=False, fit_intercept=True,\n",
       "          intercept_scaling=1, max_iter=100, multi_class='ovr', n_jobs=1,\n",
       "          penalty='l2', random_state=None, solver='liblinear', tol=0.0001,\n",
       "          verbose=0, warm_start=False)"
      ]
     },
     "execution_count": 49,
     "metadata": {},
     "output_type": "execute_result"
    }
   ],
   "source": [
    "LogReg = LogisticRegression()\n",
    "LogReg.fit(X_train, np.concatenate(y_train))"
   ]
  },
  {
   "cell_type": "code",
   "execution_count": 50,
   "metadata": {
    "collapsed": true
   },
   "outputs": [],
   "source": [
    "y_pred = LogReg.predict(X_test)"
   ]
  },
  {
   "cell_type": "code",
   "execution_count": 53,
   "metadata": {},
   "outputs": [
    {
     "name": "stdout",
     "output_type": "stream",
     "text": [
      "[[19033    42]\n",
      " [ 1075  2352]]\n"
     ]
    }
   ],
   "source": [
    "from sklearn.metrics import confusion_matrix\n",
    "confusion_matrix = confusion_matrix(y_test, y_pred)\n",
    "print(confusion_matrix)"
   ]
  },
  {
   "cell_type": "code",
   "execution_count": 54,
   "metadata": {},
   "outputs": [
    {
     "name": "stdout",
     "output_type": "stream",
     "text": [
      "             precision    recall  f1-score   support\n",
      "\n",
      "          0       0.95      1.00      0.97     19075\n",
      "          1       0.98      0.69      0.81      3427\n",
      "\n",
      "avg / total       0.95      0.95      0.95     22502\n",
      "\n"
     ]
    }
   ],
   "source": [
    "print(sklearn.metrics.classification_report(y_test, y_pred))"
   ]
  },
  {
   "cell_type": "markdown",
   "metadata": {},
   "source": [
    "What we find is that date issued doesn’t have the magnitude of affect I anticipated. There is a slight difference within the confusion matrix, but not nearly as significant a difference as I previously imagined. However, we do have other variables that could be over-fitting the model."
   ]
  },
  {
   "cell_type": "markdown",
   "metadata": {
    "collapsed": true
   },
   "source": [
    "###### Test\n",
    "The goal is to try and create a model that accurately predicts default probability, assuming we purchase these loans at origination and hold for the full 36 months. That means we need to drop all the variables that are unknown at the time the loan is issued. Meaning we will add back the issued date but will remove the following variables: 'funded_amnt', 'ann_ret', 'dti', 'revol_bal' and 'total_pymnt'. Let's repeat the process without these variables."
   ]
  },
  {
   "cell_type": "code",
   "execution_count": 94,
   "metadata": {},
   "outputs": [
    {
     "data": {
      "text/plain": [
       "array(['loan_amnt', 'int_rate', 'annual_inc', 'default', 'grade_B',\n",
       "       'grade_C', 'grade_D', 'grade_E', 'grade_F', 'grade_G'], dtype=object)"
      ]
     },
     "execution_count": 94,
     "metadata": {},
     "output_type": "execute_result"
    }
   ],
   "source": [
    "data2=loan_main\n",
    "x1=pd.get_dummies(data2['term'], 'term', drop_first=True)\n",
    "x2=pd.get_dummies(data2['grade'], 'grade', drop_first=True)\n",
    "x3=pd.get_dummies(data2['term'], 'term', drop_first=True)\n",
    "data2=data2.join(x1)\n",
    "data2=data2.join(x2)\n",
    "data2=data2.join(x3)\n",
    "\n",
    "cat_vars=['issue_d','grade','term','loan_status', 'total', 'funded_amnt', 'Ann_ret', 'dti', 'revol_bal', 'total_pymnt' ]\n",
    "data_vars=data2.columns.values.tolist()\n",
    "to_keep=[i for i in data_vars if i not in cat_vars]\n",
    "data_final=data2[to_keep]\n",
    "data_final.columns.values"
   ]
  },
  {
   "cell_type": "code",
   "execution_count": 87,
   "metadata": {},
   "outputs": [
    {
     "name": "stdout",
     "output_type": "stream",
     "text": [
      "[[18951     0]\n",
      " [ 3551     0]]\n"
     ]
    }
   ],
   "source": [
    "X = data_final.loc[:, data_final.columns != 'default'].values\n",
    "y = data_final.loc[:, data_final.columns == 'default'].values\n",
    "X_train, X_test, y_train, y_test = train_test_split(X, y, test_size = .30, random_state=25)\n",
    "\n",
    "LogReg = LogisticRegression()\n",
    "LogReg.fit(X_train, np.concatenate(y_train))\n",
    "y_pred = LogReg.predict(X_test)\n",
    "\n",
    "from sklearn.metrics import confusion_matrix\n",
    "confusion_matrix = confusion_matrix(y_test, y_pred)\n",
    "print(confusion_matrix)"
   ]
  },
  {
   "cell_type": "markdown",
   "metadata": {},
   "source": [
    "###### Result\n",
    "As we can see from this final test, the model lost a"
   ]
  },
  {
   "cell_type": "code",
   "execution_count": null,
   "metadata": {},
   "outputs": [],
   "source": []
  },
  {
   "cell_type": "code",
   "execution_count": null,
   "metadata": {},
   "outputs": [],
   "source": []
  },
  {
   "cell_type": "code",
   "execution_count": null,
   "metadata": {
    "collapsed": true
   },
   "outputs": [],
   "source": []
  }
 ],
 "metadata": {
  "kernelspec": {
   "display_name": "Python 3",
   "language": "python",
   "name": "python3"
  },
  "language_info": {
   "codemirror_mode": {
    "name": "ipython",
    "version": 3
   },
   "file_extension": ".py",
   "mimetype": "text/x-python",
   "name": "python",
   "nbconvert_exporter": "python",
   "pygments_lexer": "ipython3",
   "version": "3.6.3"
  }
 },
 "nbformat": 4,
 "nbformat_minor": 2
}
